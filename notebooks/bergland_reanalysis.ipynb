{
 "cells": [
  {
   "cell_type": "code",
   "execution_count": 1,
   "metadata": {},
   "outputs": [],
   "source": [
    "import os\n",
    "import sys\n",
    "nb_dir = os.path.split(os.getcwd())[0]\n",
    "if nb_dir not in sys.path:\n",
    "    sys.path.append(nb_dir)\n",
    "%load_ext autoreload\n",
    "%autoreload 2\n",
    "%reload_ext autoreload"
   ]
  },
  {
   "cell_type": "code",
   "execution_count": 2,
   "metadata": {},
   "outputs": [],
   "source": [
    "import pickle\n",
    "import numpy as np\n",
    "from scipy.stats import pearsonr, t\n",
    "from scipy.stats.mstats import pearsonr as nanpeasonr\n",
    "import pandas as pd\n",
    "import statsmodels.api as sm\n",
    "import matplotlib.pyplot as plt\n",
    "from tqdm import tnrange"
   ]
  },
  {
   "cell_type": "code",
   "execution_count": 3,
   "metadata": {},
   "outputs": [],
   "source": [
    "import cvtk.variant_files as vf"
   ]
  },
  {
   "cell_type": "code",
   "execution_count": 4,
   "metadata": {},
   "outputs": [],
   "source": [
    "plt.style.use('./buffalo.mplstyle')"
   ]
  },
  {
   "cell_type": "code",
   "execution_count": 5,
   "metadata": {},
   "outputs": [
    {
     "name": "stdout",
     "output_type": "stream",
     "text": [
      "reading file '../data/bergland_et_al_2014/6d_v7.3_output_fixed_filtered.vcf.gz'...\n",
      "file '../data/bergland_et_al_2014/6d_v7.3_output_fixed_filtered.vcf.gz' loaded.\n",
      "total time to load VCF file: 0.18108654816945394 mins.\n"
     ]
    }
   ],
   "source": [
    "VCF_FILE = '../data/bergland_et_al_2014/6d_v7.3_output_fixed_filtered.vcf.gz'\n",
    "\n",
    "sf = vf.AD_DP_VCFFile(VCF_FILE)\n",
    "gi = sf.build_gintervals()"
   ]
  },
  {
   "cell_type": "markdown",
   "metadata": {},
   "source": [
    "### Parse the CSV INFO field"
   ]
  },
  {
   "cell_type": "code",
   "execution_count": 6,
   "metadata": {},
   "outputs": [],
   "source": [
    "cols = ['CHROM','POS', 'ID', 'REF', 'ALT', 'QUAL', 'FILTER', 'INFO', \n",
    "        'FORMART', 'FL1', 'FL2', 'GA', 'SC', 'NC', 'ME1', 'ME2', 'PA_7_2009',\n",
    "        'PA_11_2009', 'PA_7_2010', 'PA_11_2010', 'PA_7_2011', 'PA_10_2011', 'PA_11_2011']\n",
    "d = pd.read_csv(VCF_FILE, delimiter='\\t', comment='#', names=cols, index_col=False)"
   ]
  },
  {
   "cell_type": "code",
   "execution_count": 7,
   "metadata": {},
   "outputs": [],
   "source": [
    "def parse_info(x):\n",
    "    rows = []\n",
    "    for line in x:\n",
    "        rows.append(dict([tuple(x.split('=')) for x in line.split(';')]))\n",
    "    return rows\n",
    "\n",
    "rows = parse_info(d['INFO'].values)\n",
    "# original seasonal p-values\n",
    "SP = np.array([float(x['SP']) for x in rows])"
   ]
  },
  {
   "cell_type": "code",
   "execution_count": 8,
   "metadata": {},
   "outputs": [],
   "source": [
    "depths = sf.mat.sum(axis=2)"
   ]
  },
  {
   "cell_type": "code",
   "execution_count": 9,
   "metadata": {},
   "outputs": [],
   "source": [
    "diploids = np.array([39, 48, 51, 48, 46, 86, 75, 55, 74, 116, 33, 75, 47, 50])\n",
    "nchr = 2*diploids"
   ]
  },
  {
   "cell_type": "markdown",
   "metadata": {},
   "source": [
    "## GLM Analysis of Seasonal Data"
   ]
  },
  {
   "cell_type": "markdown",
   "metadata": {},
   "source": [
    "We extract the sample months (for Fall / Spring labels) and indices from the original sample names:"
   ]
  },
  {
   "cell_type": "code",
   "execution_count": 10,
   "metadata": {},
   "outputs": [
    {
     "name": "stdout",
     "output_type": "stream",
     "text": [
      "{7: '7', 8: '11', 9: '7', 10: '11', 11: '7', 12: '10'}\n"
     ]
    }
   ],
   "source": [
    "indices, samples = zip(*[(i, x.split('_')[1]) for i, x in enumerate(sf.samples) if x.startswith('PA_')])\n",
    "indices, samples = np.array(indices)[:-1], np.array(samples)[:-1]\n",
    "print(dict(zip(indices, samples)))"
   ]
  },
  {
   "cell_type": "code",
   "execution_count": 11,
   "metadata": {},
   "outputs": [],
   "source": [
    "def Neff(depth, nchr):\n",
    "    return np.floor((nchr * depth - 1) / (nchr + depth))"
   ]
  },
  {
   "cell_type": "code",
   "execution_count": 12,
   "metadata": {},
   "outputs": [
    {
     "data": {
      "text/plain": [
       "array([1, 0, 1, 0, 1, 0])"
      ]
     },
     "execution_count": 12,
     "metadata": {},
     "output_type": "execute_result"
    }
   ],
   "source": [
    "def seasonal_model(freqs, model_matrix, Neff, constant=True):\n",
    "    if constant:\n",
    "        model_matrix = sm.add_constant(model_matrix)\n",
    "    m = sm.GLM(freqs, model_matrix, var_weights=Neff, family=sm.families.Binomial())\n",
    "    return m\n",
    "\n",
    "# For spring, we use 1, Fall 0\n",
    "seasonal_model_matrix = np.array([{'7': 1, '11': 0, '10':0}[x] for x in samples], dtype='int64')\n",
    "seasonal_model_matrix"
   ]
  },
  {
   "cell_type": "code",
   "execution_count": 13,
   "metadata": {},
   "outputs": [],
   "source": [
    "def apply_model(mat, model, model_matrix, nchr, progress=True, permute=False, **kwargs):\n",
    "    depth = mat.sum(axis=2)\n",
    "    freqs = mat[:, :, 0] / depth    \n",
    "    Neff_weights = Neff(depth, nchr)\n",
    "    nloci = mat.shape[0]\n",
    "    models = []\n",
    "    #nloci = 10000  # for testing\n",
    "    loci_range = range(nloci) if not progress else tnrange(nloci)\n",
    "    for l in loci_range:\n",
    "        #import pdb; pdb.set_trace()\n",
    "        if permute:\n",
    "            model_matrix = np.random.permutation(model_matrix)\n",
    "        m = model(freqs[l, ...], model_matrix=model_matrix, Neff=Neff_weights[l, ...], **kwargs)\n",
    "        models.append(m.fit())\n",
    "    return models"
   ]
  },
  {
   "cell_type": "code",
   "execution_count": 14,
   "metadata": {},
   "outputs": [],
   "source": [
    "CACHE_GLMFITS = '../data/bergland_et_al_2014/bergland_glmfits_per_locus.pkl'\n",
    "FORCE = False\n",
    "\n",
    "if FORCE or not os.path.exists(CACHE_GLMFITS):\n",
    "    loci_models = apply_model(sf.mat[:, indices, :], seasonal_model, seasonal_model_matrix, nchr[indices], constant=True)\n",
    "    with open(CACHE_GLMFITS, 'wb') as f:\n",
    "        pickle.dump(loci_models, f)\n",
    "else:\n",
    "     with open(CACHE_GLMFITS, 'rb') as f:\n",
    "        loci_models = pickle.load(f)"
   ]
  },
  {
   "cell_type": "code",
   "execution_count": null,
   "metadata": {},
   "outputs": [],
   "source": [
    "pvals = np.array([f.pvalues[1] for f in loci_models])"
   ]
  },
  {
   "cell_type": "markdown",
   "metadata": {},
   "source": [
    "Save the p-values from the original study, and our re-analysis p-values."
   ]
  },
  {
   "cell_type": "code",
   "execution_count": 18,
   "metadata": {},
   "outputs": [],
   "source": [
    "pval_comparison = pd.DataFrame(dict(bergland_pvals=SP, our_pvals=pvals))\n",
    "pval_comparison.to_feather('../data/bergland_et_al_2014/bergland_pvalue_comparison.feather')\n",
    "pval_comparison.to_csv('../data/bergland_et_al_2014/bergland_pvalue_comparison.csv')"
   ]
  },
  {
   "cell_type": "markdown",
   "metadata": {},
   "source": [
    "## Permutation Analysis"
   ]
  },
  {
   "cell_type": "markdown",
   "metadata": {},
   "source": [
    "## Permuting Seasons per Locus"
   ]
  },
  {
   "cell_type": "code",
   "execution_count": 19,
   "metadata": {},
   "outputs": [],
   "source": [
    "NREPS = 5"
   ]
  },
  {
   "cell_type": "code",
   "execution_count": 20,
   "metadata": {},
   "outputs": [],
   "source": [
    "CACHE_PERMUTATION = '../data/bergland_et_al_2014/bergland_permutation_per_locus.pkl'\n",
    "\n",
    "if FORCE or not os.path.exists(CACHE_PERMUTATION):\n",
    "    permuted_loci_models = []\n",
    "\n",
    "    for rep in tnrange(NREPS):\n",
    "        res = apply_model(sf.mat[:, indices, :], seasonal_model, seasonal_model_matrix,\n",
    "                           nchr=nchr[indices], permute=True, constant=True)\n",
    "        permuted_loci_models.append(res)\n",
    "    with open(CACHE_PERMUTATION, 'wb') as f:\n",
    "        pickle.dump(permuted_loci_models, f)\n",
    "else:\n",
    "     with open(CACHE_PERMUTATION, 'rb') as f:\n",
    "        permuted_loci_models = pickle.load(f)"
   ]
  },
  {
   "cell_type": "code",
   "execution_count": 24,
   "metadata": {},
   "outputs": [],
   "source": [
    "locus_permuted_pvals = np.array([[f.pvalues[1] for f in res] for res in permuted_loci_models])"
   ]
  },
  {
   "cell_type": "code",
   "execution_count": 26,
   "metadata": {},
   "outputs": [],
   "source": [
    "with open('../data/bergland_et_al_2014/locus_level_permutation_pvalues.npy', 'wb') as f:\n",
    "    np.save(f, locus_permuted_pvals)"
   ]
  },
  {
   "cell_type": "markdown",
   "metadata": {},
   "source": [
    "### Permuting Seasons Once Per Run"
   ]
  },
  {
   "cell_type": "code",
   "execution_count": null,
   "metadata": {},
   "outputs": [
    {
     "data": {
      "application/vnd.jupyter.widget-view+json": {
       "model_id": "6e8c9751718a4de0a0105400127a5e35",
       "version_major": 2,
       "version_minor": 0
      },
      "text/plain": [
       "HBox(children=(IntProgress(value=0, max=5), HTML(value='')))"
      ]
     },
     "metadata": {},
     "output_type": "display_data"
    },
    {
     "data": {
      "application/vnd.jupyter.widget-view+json": {
       "model_id": "0c4cae9546a143a6a294c0320424624e",
       "version_major": 2,
       "version_minor": 0
      },
      "text/plain": [
       "HBox(children=(IntProgress(value=0, max=557987), HTML(value='')))"
      ]
     },
     "metadata": {},
     "output_type": "display_data"
    }
   ],
   "source": [
    "CACHE_PERMUTATION_REP = '../data/bergland_et_al_2014/bergland_permutation_per_rep.pkl'\n",
    "NREPS = 5\n",
    "\n",
    "if FORCE or not os.path.exists(CACHE_PERMUTATION_REP):\n",
    "    permuted_rep_models = []\n",
    "\n",
    "    for rep in tnrange(NREPS):\n",
    "        permuted_seasonal_model_matrix = np.random.permutation(seasonal_model_matrix)\n",
    "        res = apply_model(sf.mat[:, indices, :], seasonal_model, permuted_seasonal_model_matrix,\n",
    "                           nchr=nchr[indices], permute=True, constant=True)\n",
    "        permuted_rep_models.append(res)\n",
    "else:\n",
    "     with open(CACHE_PERMUTATION_REPe, 'rb') as f:\n",
    "        permuted_rep_models = pickle.load(f)"
   ]
  },
  {
   "cell_type": "code",
   "execution_count": null,
   "metadata": {},
   "outputs": [],
   "source": [
    "rep_permuted_pvals = np.array([[f.pvalues[1] for m, f in res] for res in permuted_rep_models])"
   ]
  },
  {
   "cell_type": "code",
   "execution_count": null,
   "metadata": {},
   "outputs": [],
   "source": [
    "with open('../data/bergland_et_al_2014/rep_level_permutation_pvalues.npy', 'wb') as f:\n",
    "    np.save(f, rep_permuted_pvals)"
   ]
  },
  {
   "cell_type": "code",
   "execution_count": 72,
   "metadata": {},
   "outputs": [
    {
     "data": {
      "text/plain": [
       "<matplotlib.legend.Legend at 0x7f09ba7c0da0>"
      ]
     },
     "execution_count": 72,
     "metadata": {},
     "output_type": "execute_result"
    },
    {
     "data": {
      "image/png": "[encoded data removed]",
      "text/plain": [
       "<Figure size 432x288 with 1 Axes>"
      ]
     },
     "metadata": {
      "needs_background": "light"
     },
     "output_type": "display_data"
    }
   ],
   "source": [
    "labels = tuple(['seasonal'] + [f'permuted-{r+1}' for r in range(NREPS)])\n",
    "plt.hist(np.hstack((pvals.reshape(-1, 1), permuted2_pvals.T)), density=True, label=labels)\n",
    "plt.legend()"
   ]
  },
  {
   "cell_type": "code",
   "execution_count": null,
   "metadata": {},
   "outputs": [],
   "source": []
  }
 ],
 "metadata": {
  "kernelspec": {
   "display_name": "Python 3",
   "language": "python",
   "name": "python3"
  },
  "language_info": {
   "codemirror_mode": {
    "name": "ipython",
    "version": 3
   },
   "file_extension": ".py",
   "mimetype": "text/x-python",
   "name": "python",
   "nbconvert_exporter": "python",
   "pygments_lexer": "ipython3",
   "version": "3.6.7"
  }
 },
 "nbformat": 4,
 "nbformat_minor": 2
}
