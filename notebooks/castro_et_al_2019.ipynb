{
 "cells": [
  {
   "cell_type": "markdown",
   "metadata": {},
   "source": [
    "# Castro et al. (2019) Data Processing and Analysis"
   ]
  },
  {
   "cell_type": "markdown",
   "metadata": {},
   "source": [
    "## Setup"
   ]
  },
  {
   "cell_type": "code",
   "execution_count": 1,
   "metadata": {},
   "outputs": [],
   "source": [
    "import os\n",
    "import sys\n",
    "import glob\n",
    "nb_dir = os.path.split(os.getcwd())[0]\n",
    "if nb_dir not in sys.path:\n",
    "    sys.path.append(nb_dir)\n",
    "%load_ext autoreload\n",
    "%autoreload 2\n",
    "%reload_ext autoreload"
   ]
  },
  {
   "cell_type": "code",
   "execution_count": 2,
   "metadata": {},
   "outputs": [],
   "source": [
    "import re\n",
    "import pickle\n",
    "from collections import Counter\n",
    "from functools import reduce\n",
    "\n",
    "import pandas as pd\n",
    "from collections import defaultdict\n",
    "import numpy as np\n",
    "import matplotlib.pyplot as plt\n",
    "from matplotlib import cm\n",
    "import matplotlib as mpl"
   ]
  },
  {
   "cell_type": "code",
   "execution_count": 3,
   "metadata": {},
   "outputs": [],
   "source": [
    "from cvtk.cvtk import TemporalFreqs, TiledTemporalFreqs\n",
    "from cvtk.cov import stack_temporal_covariances\n",
    "import cvtk.variant_files as vf\n",
    "from cvtk.gintervals import GenomicIntervals\n",
    "from cvtk.pca import FreqPCA\n",
    "from cvtk.plots import rep_plot_pca, correction_diagnostic_plot\n",
    "from cvtk.utils import integerize\n",
    "from cvtk.utils import extract_empirical_nulls_diagonals, extract_temporal_cov_diagonals\n",
    "from cvtk.cov import stack_replicate_covariances, stack_temporal_covs_by_group\n",
    "from cvtk.variant_files import VCFFile"
   ]
  },
  {
   "cell_type": "code",
   "execution_count": 4,
   "metadata": {},
   "outputs": [],
   "source": [
    "%matplotlib inline\n",
    "#%config InlineBackend.figure_format = 'svg'\n",
    "mpl.rcParams['figure.figsize'] = (8.0, 4.0)\n",
    "mpl.rcParams['figure.dpi'] = 200"
   ]
  },
  {
   "cell_type": "markdown",
   "metadata": {},
   "source": [
    "# Varianta Data Loading"
   ]
  },
  {
   "cell_type": "markdown",
   "metadata": {},
   "source": [
    "### Load in VCF data"
   ]
  },
  {
   "cell_type": "code",
   "execution_count": 5,
   "metadata": {},
   "outputs": [
    {
     "name": "stdout",
     "output_type": "stream",
     "text": [
      "reading file '../data/castro_et_al_2019/beagle_genMap.all.impute.vcf.gz'...\n",
      "file '../data/castro_et_al_2019/beagle_genMap.all.impute.vcf.gz' loaded.\n",
      "total time to load VCF file: 9.54860243399938 mins.\n"
     ]
    }
   ],
   "source": [
    "vcf = VCFFile('../data/castro_et_al_2019/beagle_genMap.all.impute.vcf.gz')"
   ]
  },
  {
   "cell_type": "markdown",
   "metadata": {},
   "source": [
    "Remove fixed sites — those that are not polymorphic in any samples / timepoints. These just needlessly shrink the covariance towards zero."
   ]
  },
  {
   "cell_type": "markdown",
   "metadata": {},
   "source": [
    "### Sample Data\n",
    "\n",
    "The samples names to line/generation mapping was not in a simple text file, but I found the relevant information in the vcftools commands that were at the beginning of the file `Longshanks_F0F17.summary_stats.tar.gz`. From this I created `samples.txt`, which is read in and parsed below."
   ]
  },
  {
   "cell_type": "code",
   "execution_count": 6,
   "metadata": {},
   "outputs": [],
   "source": [
    "samples = pd.read_csv(\"../data/castro_et_al_2019/samples.txt\", header=None, names = ('line', 'individual'))\n",
    "sample_map = {k:v for k, v in zip(samples['individual'], samples['line'])}\n",
    "\n",
    "subpop_indices = defaultdict(list)\n",
    "for i, k in enumerate(vcf.samples):\n",
    "    subpop_indices[sample_map[k.decode()]].append(i)"
   ]
  },
  {
   "cell_type": "markdown",
   "metadata": {},
   "source": [
    "From this, we can map the `vcf.geno_mat` table to subpopulation counts. "
   ]
  },
  {
   "cell_type": "code",
   "execution_count": 7,
   "metadata": {},
   "outputs": [
    {
     "name": "stderr",
     "output_type": "stream",
     "text": [
      "/home/vinceb/projects/cvtk/cvtk/variant_files.py:310: FutureWarning: arrays to stack must be passed as a \"sequence\" type such as list or tuple. Support for non-sequence iterables such as generators is deprecated as of NumPy 1.16 and will raise an error in the future.\n",
      "  self.mat = np.stack(counts_mat.values())\n"
     ]
    }
   ],
   "source": [
    "counts_mat = vcf.count_alleles_subpops(subpop_indices)"
   ]
  },
  {
   "cell_type": "code",
   "execution_count": 8,
   "metadata": {},
   "outputs": [
    {
     "data": {
      "text/plain": [
       "dict_keys(['Ctrl_F17', 'LS1_F17', 'LS2_F17', 'Ctrl_F0', 'LS1_F0', 'LS2_F0'])"
      ]
     },
     "execution_count": 8,
     "metadata": {},
     "output_type": "execute_result"
    }
   ],
   "source": [
    "vcf.subpops"
   ]
  },
  {
   "cell_type": "markdown",
   "metadata": {},
   "source": [
    "Now we count the number of diploids in each sample."
   ]
  },
  {
   "cell_type": "code",
   "execution_count": 9,
   "metadata": {},
   "outputs": [],
   "source": [
    "ndiploids = [Counter(sample_map.values())[k] for k in vcf.subpops]"
   ]
  },
  {
   "cell_type": "code",
   "execution_count": 10,
   "metadata": {},
   "outputs": [],
   "source": [
    "def parse_samples(x):\n",
    "    line, gen = x.split('_')\n",
    "    return (line, gen[1:])\n",
    "\n",
    "design = [parse_samples(x) for x in vcf.subpops]"
   ]
  },
  {
   "cell_type": "code",
   "execution_count": 11,
   "metadata": {},
   "outputs": [],
   "source": [
    "freq_mat_all = vcf.calc_freqs()"
   ]
  },
  {
   "cell_type": "code",
   "execution_count": 12,
   "metadata": {},
   "outputs": [
    {
     "name": "stdout",
     "output_type": "stream",
     "text": [
      "number of loci:  31944210\n"
     ]
    }
   ],
   "source": [
    "print(\"number of loci: \", freq_mat_all.shape[1])"
   ]
  },
  {
   "cell_type": "markdown",
   "metadata": {},
   "source": [
    "With the frequencies calculated, now we filter out all non-segregating sites."
   ]
  },
  {
   "cell_type": "code",
   "execution_count": 13,
   "metadata": {},
   "outputs": [
    {
     "name": "stdout",
     "output_type": "stream",
     "text": [
      "number of loci:  8162172\n",
      "loci not segregating removed:  23782038\n"
     ]
    }
   ],
   "source": [
    "vcf.remove_fixed()\n",
    "freq_mat = vcf.calc_freqs()\n",
    "print(\"number of loci: \", freq_mat.shape[1])\n",
    "print(\"loci not segregating removed: \", freq_mat_all.shape[1] - freq_mat.shape[1])"
   ]
  },
  {
   "cell_type": "code",
   "execution_count": 14,
   "metadata": {},
   "outputs": [],
   "source": [
    "gi = vcf.build_gintervals()"
   ]
  },
  {
   "cell_type": "markdown",
   "metadata": {},
   "source": [
    "## Replicate Covariance Analysis"
   ]
  },
  {
   "cell_type": "code",
   "execution_count": 15,
   "metadata": {},
   "outputs": [],
   "source": [
    "tile_width = 10e6\n",
    "gi.infer_seqlens()\n",
    "tiles = GenomicIntervals.from_tiles(gi.seqlens, width=tile_width)"
   ]
  },
  {
   "cell_type": "code",
   "execution_count": 16,
   "metadata": {},
   "outputs": [],
   "source": [
    "d = TiledTemporalFreqs(tiles, freqs=freq_mat, depths=vcf.N, diploids=ndiploids, samples=design, gintervals=gi)"
   ]
  },
  {
   "cell_type": "code",
   "execution_count": 17,
   "metadata": {},
   "outputs": [
    {
     "data": {
      "text/plain": [
       "[('Ctrl', '0'),\n",
       " ('Ctrl', '17'),\n",
       " ('LS1', '0'),\n",
       " ('LS1', '17'),\n",
       " ('LS2', '0'),\n",
       " ('LS2', '17')]"
      ]
     },
     "execution_count": 17,
     "metadata": {},
     "output_type": "execute_result"
    }
   ],
   "source": [
    "d.samples"
   ]
  },
  {
   "cell_type": "code",
   "execution_count": 18,
   "metadata": {},
   "outputs": [],
   "source": [
    "autosomes = list(set(gi.intervals.keys()) - set('chrX'))"
   ]
  },
  {
   "cell_type": "code",
   "execution_count": 19,
   "metadata": {},
   "outputs": [
    {
     "data": {
      "application/vnd.jupyter.widget-view+json": {
       "model_id": "d1aa94d30c9e4e9994c4d2b3ed63be8c",
       "version_major": 2,
       "version_minor": 0
      },
      "text/plain": [
       "HBox(children=(IntProgress(value=0, description='bootstraps', max=5000, style=ProgressStyle(description_width=…"
      ]
     },
     "metadata": {},
     "output_type": "display_data"
    },
    {
     "name": "stdout",
     "output_type": "stream",
     "text": [
      "\n"
     ]
    }
   ],
   "source": [
    "covs_cis = d.bootstrap_cov(B=5000, keep_seqids=autosomes, average_replicates=False, progress_bar=True)"
   ]
  },
  {
   "cell_type": "code",
   "execution_count": 20,
   "metadata": {},
   "outputs": [
    {
     "data": {
      "text/plain": [
       "array([[[ 0.07777817, -0.01893739, -0.01577241],\n",
       "        [-0.01893739,  0.10934695,  0.01307074],\n",
       "        [-0.01577241,  0.01307074,  0.12341267]],\n",
       "\n",
       "       [[ 0.10294169, -0.0069911 , -0.00235628],\n",
       "        [-0.0069911 ,  0.13691365,  0.02631751],\n",
       "        [-0.00235628,  0.02631751,  0.16493677]],\n",
       "\n",
       "       [[ 0.11936342,  0.00654123,  0.01414081],\n",
       "        [ 0.00654123,  0.15509356,  0.03939773],\n",
       "        [ 0.01414081,  0.03939773,  0.19021948]]])"
      ]
     },
     "execution_count": 20,
     "metadata": {},
     "output_type": "execute_result"
    }
   ],
   "source": [
    "covs_cis"
   ]
  },
  {
   "cell_type": "code",
   "execution_count": 21,
   "metadata": {},
   "outputs": [],
   "source": [
    "with open('../data/castro_et_al_2019/covs_bootstrap_10e6.npy', 'wb') as f:\n",
    "    np.save(f, covs_cis)"
   ]
  },
  {
   "cell_type": "markdown",
   "metadata": {},
   "source": [
    "### Bootstrap the Convergence Correlation"
   ]
  },
  {
   "cell_type": "code",
   "execution_count": 22,
   "metadata": {},
   "outputs": [
    {
     "name": "stderr",
     "output_type": "stream",
     "text": [
      "/home/vinceb/projects/cvtk/cvtk/G.py:94: RuntimeWarning: invalid value encountered in sqrt\n",
      "  sdmat = np.sqrt(varmat[:, tr, tc, :, :].mean(axis=1))\n"
     ]
    },
    {
     "data": {
      "application/vnd.jupyter.widget-view+json": {
       "model_id": "27ea6bad05c34ceebf539c22228c6f91",
       "version_major": 2,
       "version_minor": 0
      },
      "text/plain": [
       "HBox(children=(IntProgress(value=0, description='bootstraps', max=5000, style=ProgressStyle(description_width=…"
      ]
     },
     "metadata": {},
     "output_type": "display_data"
    },
    {
     "name": "stdout",
     "output_type": "stream",
     "text": [
      "\n"
     ]
    }
   ],
   "source": [
    "convergence_corr = d.bootstrap_convergence_corr(B=5000, progress_bar=True)"
   ]
  },
  {
   "cell_type": "code",
   "execution_count": 23,
   "metadata": {},
   "outputs": [
    {
     "data": {
      "text/plain": [
       "array([[[[0.00019232]]],\n",
       "\n",
       "\n",
       "       [[[0.00179993]]],\n",
       "\n",
       "\n",
       "       [[[0.01122152]]]])"
      ]
     },
     "execution_count": 23,
     "metadata": {},
     "output_type": "execute_result"
    }
   ],
   "source": [
    "convergence_corr**2"
   ]
  },
  {
   "cell_type": "markdown",
   "metadata": {},
   "source": [
    "## Analysis Excluding Chromosomes 5 and 10"
   ]
  },
  {
   "cell_type": "code",
   "execution_count": 24,
   "metadata": {},
   "outputs": [],
   "source": [
    "autosomes_sans_chr5_and_chr10 = [chr for chr in autosomes if chr not in ('chr5', 'chr10')]"
   ]
  },
  {
   "cell_type": "code",
   "execution_count": 25,
   "metadata": {},
   "outputs": [
    {
     "data": {
      "application/vnd.jupyter.widget-view+json": {
       "model_id": "7c51602900d1428b928ffda131ac2b95",
       "version_major": 2,
       "version_minor": 0
      },
      "text/plain": [
       "HBox(children=(IntProgress(value=0, description='bootstraps', max=5000, style=ProgressStyle(description_width=…"
      ]
     },
     "metadata": {},
     "output_type": "display_data"
    },
    {
     "name": "stdout",
     "output_type": "stream",
     "text": [
      "\n"
     ]
    }
   ],
   "source": [
    "covs_sans_chr5_and_chr10_cis = d.bootstrap_cov(B=5000, keep_seqids=autosomes_sans_chr5_and_chr10, \n",
    "                                              average_replicates=False, progress_bar=True)"
   ]
  },
  {
   "cell_type": "code",
   "execution_count": 26,
   "metadata": {},
   "outputs": [
    {
     "data": {
      "text/plain": [
       "array([[[ 0.06937259, -0.01966961, -0.01114396],\n",
       "        [-0.01966961,  0.10870128,  0.01391991],\n",
       "        [-0.01114396,  0.01391991,  0.15395013]],\n",
       "\n",
       "       [[ 0.10294169, -0.0069911 , -0.00235628],\n",
       "        [-0.0069911 ,  0.13691365,  0.02631751],\n",
       "        [-0.00235628,  0.02631751,  0.16493677]],\n",
       "\n",
       "       [[ 0.11671634,  0.00907126,  0.02114797],\n",
       "        [ 0.00907126,  0.15741112,  0.04030583],\n",
       "        [ 0.02114797,  0.04030583,  0.19811112]]])"
      ]
     },
     "execution_count": 26,
     "metadata": {},
     "output_type": "execute_result"
    }
   ],
   "source": [
    "covs_sans_chr5_and_chr10_cis"
   ]
  },
  {
   "cell_type": "code",
   "execution_count": 27,
   "metadata": {},
   "outputs": [
    {
     "ename": "NameError",
     "evalue": "name 'covs_sans_chr5_and_chr1_cis' is not defined",
     "output_type": "error",
     "traceback": [
      "\u001b[0;31m---------------------------------------------------------------------------\u001b[0m",
      "\u001b[0;31mNameError\u001b[0m                                 Traceback (most recent call last)",
      "\u001b[0;32m<ipython-input-27-96c9aa256c11>\u001b[0m in \u001b[0;36m<module>\u001b[0;34m\u001b[0m\n\u001b[1;32m      1\u001b[0m \u001b[0;32mwith\u001b[0m \u001b[0mopen\u001b[0m\u001b[0;34m(\u001b[0m\u001b[0;34m'../data/castro_et_al_2019/covs_sans_chr5_and_chr10_bootstrap_10e6.npy'\u001b[0m\u001b[0;34m,\u001b[0m \u001b[0;34m'wb'\u001b[0m\u001b[0;34m)\u001b[0m \u001b[0;32mas\u001b[0m \u001b[0mf\u001b[0m\u001b[0;34m:\u001b[0m\u001b[0;34m\u001b[0m\u001b[0;34m\u001b[0m\u001b[0m\n\u001b[0;32m----> 2\u001b[0;31m     \u001b[0mnp\u001b[0m\u001b[0;34m.\u001b[0m\u001b[0msave\u001b[0m\u001b[0;34m(\u001b[0m\u001b[0mf\u001b[0m\u001b[0;34m,\u001b[0m \u001b[0mcovs_sans_chr5_and_chr1_cis\u001b[0m\u001b[0;34m)\u001b[0m\u001b[0;34m\u001b[0m\u001b[0;34m\u001b[0m\u001b[0m\n\u001b[0m",
      "\u001b[0;31mNameError\u001b[0m: name 'covs_sans_chr5_and_chr1_cis' is not defined"
     ]
    }
   ],
   "source": [
    "with open('../data/castro_et_al_2019/covs_sans_chr5_and_chr10_bootstrap_10e6.npy', 'wb') as f:\n",
    "    np.save(f, covs_sans_chr5_and_chr1_cis)"
   ]
  },
  {
   "cell_type": "code",
   "execution_count": null,
   "metadata": {},
   "outputs": [],
   "source": []
  },
  {
   "cell_type": "code",
   "execution_count": null,
   "metadata": {},
   "outputs": [],
   "source": []
  },
  {
   "cell_type": "code",
   "execution_count": null,
   "metadata": {},
   "outputs": [],
   "source": [
    "    "
   ]
  }
 ],
 "metadata": {
  "kernelspec": {
   "display_name": "Python 3",
   "language": "python",
   "name": "python3"
  },
  "language_info": {
   "codemirror_mode": {
    "name": "ipython",
    "version": 3
   },
   "file_extension": ".py",
   "mimetype": "text/x-python",
   "name": "python",
   "nbconvert_exporter": "python",
   "pygments_lexer": "ipython3",
   "version": "3.6.7"
  }
 },
 "nbformat": 4,
 "nbformat_minor": 2
}
