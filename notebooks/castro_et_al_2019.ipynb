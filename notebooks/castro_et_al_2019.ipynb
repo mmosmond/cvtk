{
 "cells": [
  {
   "cell_type": "markdown",
   "metadata": {},
   "source": [
    "# Castro et al. (2019) Data Processing and Analysis"
   ]
  },
  {
   "cell_type": "markdown",
   "metadata": {},
   "source": [
    "## Setup"
   ]
  },
  {
   "cell_type": "code",
   "execution_count": 1,
   "metadata": {},
   "outputs": [],
   "source": [
    "import os\n",
    "import sys\n",
    "import glob\n",
    "nb_dir = os.path.split(os.getcwd())[0]\n",
    "if nb_dir not in sys.path:\n",
    "    sys.path.append(nb_dir)\n",
    "%load_ext autoreload\n",
    "%autoreload 2\n",
    "%reload_ext autoreload"
   ]
  },
  {
   "cell_type": "code",
   "execution_count": 2,
   "metadata": {},
   "outputs": [],
   "source": [
    "import re\n",
    "import pickle\n",
    "from collections import Counter\n",
    "from functools import reduce\n",
    "\n",
    "import pandas as pd\n",
    "from collections import defaultdict\n",
    "import numpy as np\n",
    "import matplotlib.pyplot as plt\n",
    "from matplotlib import cm\n",
    "import matplotlib as mpl"
   ]
  },
  {
   "cell_type": "code",
   "execution_count": 3,
   "metadata": {},
   "outputs": [],
   "source": [
    "from cvtk.cvtk import TemporalFreqs, TiledTemporalFreqs\n",
    "from cvtk.cov import stack_temporal_covariances\n",
    "import cvtk.variant_files as vf\n",
    "from cvtk.gintervals import GenomicIntervals\n",
    "from cvtk.pca import FreqPCA\n",
    "from cvtk.plots import rep_plot_pca, correction_diagnostic_plot\n",
    "from cvtk.utils import integerize\n",
    "from cvtk.utils import extract_empirical_nulls_diagonals, extract_temporal_cov_diagonals\n",
    "from cvtk.cov import stack_replicate_covariances, stack_temporal_covs_by_group\n",
    "from cvtk.variant_files import VCFFile"
   ]
  },
  {
   "cell_type": "code",
   "execution_count": 4,
   "metadata": {},
   "outputs": [],
   "source": [
    "%matplotlib inline\n",
    "#%config InlineBackend.figure_format = 'svg'\n",
    "mpl.rcParams['figure.figsize'] = (8.0, 4.0)\n",
    "mpl.rcParams['figure.dpi'] = 200"
   ]
  },
  {
   "cell_type": "markdown",
   "metadata": {},
   "source": [
    "# Varianta Data Loading"
   ]
  },
  {
   "cell_type": "markdown",
   "metadata": {},
   "source": [
    "### Load in VCF data"
   ]
  },
  {
   "cell_type": "code",
   "execution_count": 5,
   "metadata": {},
   "outputs": [
    {
     "name": "stdout",
     "output_type": "stream",
     "text": [
      "reading file '../data/castro_et_al_2019/beagle_genMap.all.impute.vcf.gz'...\n",
      "file '../data/castro_et_al_2019/beagle_genMap.all.impute.vcf.gz' loaded.\n",
      "total time to load VCF file: 9.510106468200684 mins.\n"
     ]
    }
   ],
   "source": [
    "vcf = VCFFile('../data/castro_et_al_2019/beagle_genMap.all.impute.vcf.gz')"
   ]
  },
  {
   "cell_type": "markdown",
   "metadata": {},
   "source": [
    "Remove fixed sites — those that are not polymorphic in any samples / timepoints. These just needlessly shrink the covariance towards zero."
   ]
  },
  {
   "cell_type": "markdown",
   "metadata": {},
   "source": [
    "### Sample Data\n",
    "\n",
    "The samples names to line/generation mapping was not in a simple text file, but I found the relevant information in the vcftools commands that were at the beginning of the file `Longshanks_F0F17.summary_stats.tar.gz`. From this I created `samples.txt`, which is read in and parsed below."
   ]
  },
  {
   "cell_type": "code",
   "execution_count": 6,
   "metadata": {},
   "outputs": [],
   "source": [
    "samples = pd.read_csv(\"../data/castro_et_al_2019/samples.txt\", header=None, names = ('line', 'individual'))\n",
    "sample_map = {k:v for k, v in zip(samples['individual'], samples['line'])}\n",
    "\n",
    "subpop_indices = defaultdict(list)\n",
    "for i, k in enumerate(vcf.samples):\n",
    "    subpop_indices[sample_map[k.decode()]].append(i)"
   ]
  },
  {
   "cell_type": "markdown",
   "metadata": {},
   "source": [
    "From this, we can map the `vcf.geno_mat` table to subpopulation counts. "
   ]
  },
  {
   "cell_type": "code",
   "execution_count": 7,
   "metadata": {},
   "outputs": [
    {
     "name": "stderr",
     "output_type": "stream",
     "text": [
      "/home/vinceb/projects/cvtk/cvtk/variant_files.py:310: FutureWarning: arrays to stack must be passed as a \"sequence\" type such as list or tuple. Support for non-sequence iterables such as generators is deprecated as of NumPy 1.16 and will raise an error in the future.\n",
      "  self.mat = np.stack(counts_mat.values())\n"
     ]
    }
   ],
   "source": [
    "counts_mat = vcf.count_alleles_subpops(subpop_indices)"
   ]
  },
  {
   "cell_type": "code",
   "execution_count": 8,
   "metadata": {},
   "outputs": [
    {
     "data": {
      "text/plain": [
       "dict_keys(['Ctrl_F17', 'LS1_F17', 'LS2_F17', 'Ctrl_F0', 'LS1_F0', 'LS2_F0'])"
      ]
     },
     "execution_count": 8,
     "metadata": {},
     "output_type": "execute_result"
    }
   ],
   "source": [
    "vcf.subpops"
   ]
  },
  {
   "cell_type": "markdown",
   "metadata": {},
   "source": [
    "Now we count the number of diploids in each sample."
   ]
  },
  {
   "cell_type": "code",
   "execution_count": 9,
   "metadata": {},
   "outputs": [],
   "source": [
    "ndiploids = [Counter(sample_map.values())[k] for k in vcf.subpops]"
   ]
  },
  {
   "cell_type": "code",
   "execution_count": 10,
   "metadata": {},
   "outputs": [],
   "source": [
    "def parse_samples(x):\n",
    "    line, gen = x.split('_')\n",
    "    return (line, gen[1:])\n",
    "\n",
    "design = [parse_samples(x) for x in vcf.subpops]"
   ]
  },
  {
   "cell_type": "code",
   "execution_count": 11,
   "metadata": {},
   "outputs": [],
   "source": [
    "freq_mat_all = vcf.calc_freqs()"
   ]
  },
  {
   "cell_type": "code",
   "execution_count": 12,
   "metadata": {},
   "outputs": [
    {
     "name": "stdout",
     "output_type": "stream",
     "text": [
      "number of loci:  31944210\n"
     ]
    }
   ],
   "source": [
    "print(\"number of loci: \", freq_mat_all.shape[1])"
   ]
  },
  {
   "cell_type": "markdown",
   "metadata": {},
   "source": [
    "With the frequencies calculated, now we filter out all non-segregating sites."
   ]
  },
  {
   "cell_type": "code",
   "execution_count": 13,
   "metadata": {},
   "outputs": [
    {
     "name": "stdout",
     "output_type": "stream",
     "text": [
      "number of loci:  8162172\n",
      "loci not segregating removed:  23782038\n"
     ]
    }
   ],
   "source": [
    "vcf.remove_fixed()\n",
    "freq_mat = vcf.calc_freqs()\n",
    "print(\"number of loci: \", freq_mat.shape[1])\n",
    "print(\"loci not segregating removed: \", freq_mat_all.shape[1] - freq_mat.shape[1])"
   ]
  },
  {
   "cell_type": "code",
   "execution_count": 14,
   "metadata": {},
   "outputs": [],
   "source": [
    "gi = vcf.build_gintervals()"
   ]
  },
  {
   "cell_type": "markdown",
   "metadata": {},
   "source": [
    "## Replicate Covariance Analysis"
   ]
  },
  {
   "cell_type": "code",
   "execution_count": 16,
   "metadata": {},
   "outputs": [],
   "source": [
    "tile_width = 10e6\n",
    "gi.infer_seqlens()\n",
    "tiles = GenomicIntervals.from_tiles(gi.seqlens, width=tile_width)"
   ]
  },
  {
   "cell_type": "code",
   "execution_count": 17,
   "metadata": {},
   "outputs": [],
   "source": [
    "d = TiledTemporalFreqs(tiles, freqs=freq_mat, depths=vcf.N, diploids=ndiploids, samples=design, gintervals=gi)"
   ]
  },
  {
   "cell_type": "code",
   "execution_count": 18,
   "metadata": {},
   "outputs": [
    {
     "data": {
      "text/plain": [
       "[('Ctrl', '0'),\n",
       " ('Ctrl', '17'),\n",
       " ('LS1', '0'),\n",
       " ('LS1', '17'),\n",
       " ('LS2', '0'),\n",
       " ('LS2', '17')]"
      ]
     },
     "execution_count": 18,
     "metadata": {},
     "output_type": "execute_result"
    }
   ],
   "source": [
    "d.samples"
   ]
  },
  {
   "cell_type": "code",
   "execution_count": 19,
   "metadata": {},
   "outputs": [],
   "source": [
    "autosomes = list(set(gi.intervals.keys()) - set('chrX'))"
   ]
  },
  {
   "cell_type": "code",
   "execution_count": 20,
   "metadata": {},
   "outputs": [
    {
     "data": {
      "application/vnd.jupyter.widget-view+json": {
       "model_id": "b7786d7aa4c6439da3a20b101f3f6396",
       "version_major": 2,
       "version_minor": 0
      },
      "text/plain": [
       "HBox(children=(IntProgress(value=0, description='bootstraps', max=5000, style=ProgressStyle(description_width=…"
      ]
     },
     "metadata": {},
     "output_type": "display_data"
    },
    {
     "name": "stdout",
     "output_type": "stream",
     "text": [
      "\n"
     ]
    }
   ],
   "source": [
    "covs_cis = d.bootstrap_cov(B=5000, keep_seqids=autosomes, average_replicates=False, progress_bar=True)"
   ]
  },
  {
   "cell_type": "code",
   "execution_count": 25,
   "metadata": {},
   "outputs": [
    {
     "data": {
      "text/plain": [
       "array([[[ 0.08216114, -0.0211423 , -0.01879697],\n",
       "        [-0.0211423 ,  0.11589154,  0.01291927],\n",
       "        [-0.01879697,  0.01291927,  0.13267256]],\n",
       "\n",
       "       [[ 0.10591613, -0.00780514, -0.00404746],\n",
       "        [-0.00780514,  0.14027914,  0.02612223],\n",
       "        [-0.00404746,  0.02612223,  0.16853641]],\n",
       "\n",
       "       [[ 0.1257028 ,  0.00491804,  0.01073867],\n",
       "        [ 0.00491804,  0.16270104,  0.03954906],\n",
       "        [ 0.01073867,  0.03954906,  0.19750535]]])"
      ]
     },
     "execution_count": 25,
     "metadata": {},
     "output_type": "execute_result"
    }
   ],
   "source": [
    "covs_cis"
   ]
  },
  {
   "cell_type": "code",
   "execution_count": 22,
   "metadata": {},
   "outputs": [],
   "source": [
    "with open('../data/castro_et_al_2019/covs_bootstrap.npy', 'wb') as f:\n",
    "    np.save(f, covs_cis)"
   ]
  },
  {
   "cell_type": "markdown",
   "metadata": {},
   "source": [
    "### Bootstrap the Convergence Correlation"
   ]
  },
  {
   "cell_type": "code",
   "execution_count": 37,
   "metadata": {},
   "outputs": [
    {
     "data": {
      "application/vnd.jupyter.widget-view+json": {
       "model_id": "9327c3208e2247438ee936cdebad6f11",
       "version_major": 2,
       "version_minor": 0
      },
      "text/plain": [
       "HBox(children=(IntProgress(value=0, description='bootstraps', max=1000, style=ProgressStyle(description_width=…"
      ]
     },
     "metadata": {},
     "output_type": "display_data"
    },
    {
     "name": "stdout",
     "output_type": "stream",
     "text": [
      "\n"
     ]
    }
   ],
   "source": [
    "convergence_corr = d.bootstrap_convergence_corr(B=1000, progress_bar=True)"
   ]
  },
  {
   "cell_type": "code",
   "execution_count": 39,
   "metadata": {},
   "outputs": [
    {
     "data": {
      "text/plain": [
       "array([[[-0.0178953 ]],\n",
       "\n",
       "       [[ 0.03364797]],\n",
       "\n",
       "       [[ 0.08345644]]])"
      ]
     },
     "execution_count": 39,
     "metadata": {},
     "output_type": "execute_result"
    }
   ],
   "source": [
    "convergence_corr"
   ]
  },
  {
   "cell_type": "code",
   "execution_count": 34,
   "metadata": {},
   "outputs": [
    {
     "data": {
      "text/plain": [
       "array([[[[-0.18739708, -0.17079451, -0.18739708,  0.09625715,\n",
       "          -0.17079451,  0.09625715]],\n",
       "\n",
       "        [[-0.13999533, -0.1325864 , -0.13999533,  0.09791242,\n",
       "          -0.1325864 ,  0.09791242]],\n",
       "\n",
       "        [[-0.1153194 , -0.10475765, -0.1153194 ,  0.07775817,\n",
       "          -0.10475765,  0.07775817]]],\n",
       "\n",
       "\n",
       "       [[[-0.0766596 , -0.03227367, -0.0766596 ,  0.24650968,\n",
       "          -0.03227367,  0.24650968]],\n",
       "\n",
       "        [[-0.05623302, -0.02637868, -0.05623302,  0.18661366,\n",
       "          -0.02637868,  0.18661366]],\n",
       "\n",
       "        [[-0.04656208, -0.0215006 , -0.04656208,  0.15206221,\n",
       "          -0.0215006 ,  0.15206221]]],\n",
       "\n",
       "\n",
       "       [[[ 0.05583696,  0.10032341,  0.05583696,  0.3731058 ,\n",
       "           0.10032341,  0.3731058 ]],\n",
       "\n",
       "        [[ 0.02927055,  0.08495252,  0.02927055,  0.27405476,\n",
       "           0.08495252,  0.27405476]],\n",
       "\n",
       "        [[ 0.02656788,  0.06815975,  0.02656788,  0.22601915,\n",
       "           0.06815975,  0.22601915]]]])"
      ]
     },
     "execution_count": 34,
     "metadata": {},
     "output_type": "execute_result"
    }
   ],
   "source": [
    "convergence_corr"
   ]
  },
  {
   "cell_type": "markdown",
   "metadata": {},
   "source": [
    "## Analysis Excluding Chromosomes 5 and 10"
   ]
  },
  {
   "cell_type": "code",
   "execution_count": 26,
   "metadata": {},
   "outputs": [],
   "source": [
    "autosomes_sans_chr5_and_chr10 = [chr for chr in autosomes if chr not in ('chr5', 'chr10')]"
   ]
  },
  {
   "cell_type": "code",
   "execution_count": 28,
   "metadata": {},
   "outputs": [
    {
     "data": {
      "application/vnd.jupyter.widget-view+json": {
       "model_id": "5ba61eb610974e968609d2024d7a0410",
       "version_major": 2,
       "version_minor": 0
      },
      "text/plain": [
       "HBox(children=(IntProgress(value=0, description='bootstraps', max=5000, style=ProgressStyle(description_width=…"
      ]
     },
     "metadata": {},
     "output_type": "display_data"
    },
    {
     "name": "stdout",
     "output_type": "stream",
     "text": [
      "\n"
     ]
    }
   ],
   "source": [
    "covs_sans_chr5_and_chr1_cis = d.bootstrap_cov(B=5000, keep_seqids=autosomes_sans_chr5_and_chr10, \n",
    "                                              average_replicates=False, progress_bar=True)"
   ]
  },
  {
   "cell_type": "code",
   "execution_count": 29,
   "metadata": {},
   "outputs": [
    {
     "data": {
      "text/plain": [
       "array([[[ 0.08432771, -0.02343031, -0.02532361],\n",
       "        [-0.02343031,  0.11319475,  0.0121667 ],\n",
       "        [-0.02532361,  0.0121667 ,  0.1297967 ]],\n",
       "\n",
       "       [[ 0.10991822, -0.00873688, -0.00959943],\n",
       "        [-0.00873688,  0.13948149,  0.02558092],\n",
       "        [-0.00959943,  0.02558092,  0.15266809]],\n",
       "\n",
       "       [[ 0.13082629,  0.00537015,  0.00657944],\n",
       "        [ 0.00537015,  0.1629076 ,  0.03876012],\n",
       "        [ 0.00657944,  0.03876012,  0.17443489]]])"
      ]
     },
     "execution_count": 29,
     "metadata": {},
     "output_type": "execute_result"
    }
   ],
   "source": [
    "covs_sans_chr5_and_chr1_cis"
   ]
  },
  {
   "cell_type": "code",
   "execution_count": 30,
   "metadata": {},
   "outputs": [],
   "source": [
    "with open('../data/castro_et_al_2019/covs_sans_chr5_and_chr1_bootstrap.npy', 'wb') as f:\n",
    "    np.save(f, covs_sans_chr5_and_chr1_cis)"
   ]
  },
  {
   "cell_type": "markdown",
   "metadata": {},
   "source": [
    "# OLD STUFF"
   ]
  },
  {
   "cell_type": "code",
   "execution_count": null,
   "metadata": {},
   "outputs": [],
   "source": [
    "design_orig = [('Ctrl', 0), ('Ctrl', 17), ('LS1', 0), ('LS1', 17), ('LS2', 0), ('LS2', 17)]"
   ]
  },
  {
   "cell_type": "code",
   "execution_count": 50,
   "metadata": {},
   "outputs": [
    {
     "name": "stdout",
     "output_type": "stream",
     "text": [
      "saving frequency matrix cached pickle file...\n",
      "rebuilding loci GenomicIntervals...\n",
      "caching loci GenomicIntervals...\n"
     ]
    }
   ],
   "source": [
    "CACHED_FREQS = '../data/castro_et_al_2019/castro_et_al_2019_frequencies_new.pkl'\n",
    "CACHED_POS = '../data/castro_et_al_2019/castro_et_al_2019_loci_new.pkl'\n",
    "\n",
    "def process_sample_name(f):\n",
    "    line, gen = os.path.basename(f).split('.')[-2].split('_')\n",
    "    return line, int(gen[1:])\n",
    "\n",
    "if not os.path.exists(CACHED_FREQS):\n",
    "    print(\"processing frequency matrix from raw data...\")\n",
    "    frq_files = glob.glob('../data/castro_et_al_2019/*frq')\n",
    "    all_data = dict()\n",
    "    all_metadata = []\n",
    "\n",
    "    first = True\n",
    "    for frq_file in frq_files:\n",
    "        m = re.match(r'beagle_genMap\\.all\\.impute\\.(?P<line>\\w+)_F(?P<gen>\\w+).frq', os.path.basename(frq_file))\n",
    "        metadata = m.groupdict()\n",
    "        all_metadata.append(metadata)\n",
    "        da = pd.read_csv(frq_file, delimiter='\\t', index_col=False)\n",
    "        da.columns = ['chrom', 'pos', 'nalleles', 'nchr', 'freq']\n",
    "        # assert the data has the exact same loci in all cases\n",
    "        if first:\n",
    "            loci = set([(chrom, pos) for chrom, pos in zip(da['chrom'], da['pos'])])\n",
    "        else:\n",
    "            assert(loci == set([(chrom, pos) for chrom, pos in zip(da['chrom'], da['pos'])]))\n",
    "        all_data[(metadata['line'], int(metadata['gen']))] = da\n",
    "    \n",
    "    # design — from file names\n",
    "    \n",
    "    design_orig = [process_sample_name(f) for f in frq_files]\n",
    "    # combine all frequencies into a matrix\n",
    "    total_freq_mat = np.array([all_data[key]['freq'].values for key in design_orig])\n",
    "    \n",
    "    # filter out non-segregating sites\n",
    "    fixed_sites = np.all((total_freq_mat == 0) | (total_freq_mat == 1), axis=0)\n",
    "    freq_mat_orig = total_freq_mat[:, ~fixed_sites]\n",
    "    seg_indices = set(list(np.argwhere(~fixed_sites).ravel()))\n",
    "    \n",
    "    # cache the frequency matrix\n",
    "    print(\"saving frequency matrix cached pickle file...\")\n",
    "    with open(CACHED_FREQS, 'wb') as f:\n",
    "        pickle.dump(freq_mat, f)\n",
    "        \n",
    "    print(\"rebuilding loci GenomicIntervals...\")\n",
    "    gi_orig = GenomicIntervals()\n",
    "    for i, row in enumerate(all_data[('Ctrl', 0)].itertuples(index=False)):\n",
    "        if i not in seg_indices:\n",
    "            # We only keep segregating sites, which are filtered out once the frequency\n",
    "            # matrix is parsed. We don't include loci that aren't in the freq matrix.\n",
    "            continue\n",
    "        chrom, pos = row[0:2]\n",
    "        gi_orig.append(chrom, int(pos))\n",
    "    print(\"caching loci GenomicIntervals...\")\n",
    "    gi_orig.dump(CACHED_POS)\n",
    "else:\n",
    "    # load the existing cached matrix\n",
    "    print(\"loading frequency matrix from cached pickle file...\")\n",
    "    with open(CACHED_FREQS, 'rb') as f:\n",
    "        freq_mat_orig = pickle.load(f)"
   ]
  },
  {
   "cell_type": "code",
   "execution_count": 80,
   "metadata": {},
   "outputs": [],
   "source": [
    "# try to load loci file\n",
    "if not os.path.exists(CACHED_POS):\n",
    "    raise ValueError(\"cached loci file not found — regenerate frequency matrix and loci GenomicIntervals object.\")\n",
    "else:\n",
    "    gi_orig = GenomicIntervals.load(CACHED_POS)"
   ]
  },
  {
   "cell_type": "code",
   "execution_count": 53,
   "metadata": {},
   "outputs": [],
   "source": [
    "autosomes = list(set(gi_orig.intervals.keys()) - set('chrX'))"
   ]
  },
  {
   "cell_type": "code",
   "execution_count": 105,
   "metadata": {},
   "outputs": [],
   "source": [
    "tile_width = 1e6\n",
    "gi_orig.infer_seqlens()\n",
    "tiles = GenomicIntervals.from_tiles(gi_orig.seqlens, width=tile_width)"
   ]
  },
  {
   "cell_type": "code",
   "execution_count": 106,
   "metadata": {},
   "outputs": [],
   "source": [
    "d_orig = TiledTemporalFreqs(tiles, freqs=freq_mat_orig, samples=design_orig, gintervals=gi_orig)"
   ]
  },
  {
   "cell_type": "code",
   "execution_count": 107,
   "metadata": {},
   "outputs": [
    {
     "data": {
      "text/plain": [
       "[('Ctrl', 0), ('Ctrl', 17), ('LS1', 0), ('LS1', 17), ('LS2', 0), ('LS2', 17)]"
      ]
     },
     "execution_count": 107,
     "metadata": {},
     "output_type": "execute_result"
    }
   ],
   "source": [
    "d_orig.samples"
   ]
  },
  {
   "cell_type": "code",
   "execution_count": 108,
   "metadata": {},
   "outputs": [],
   "source": [
    "cis = d_orig.bootstrap_covs(bias_correction=True, B=1000)"
   ]
  },
  {
   "cell_type": "code",
   "execution_count": 109,
   "metadata": {},
   "outputs": [
    {
     "data": {
      "text/plain": [
       "array([[[ 0.15706537, -0.01311851, -0.02019287],\n",
       "        [-0.01311851,  0.1931862 ,  0.01537248],\n",
       "        [-0.02019287,  0.01537248,  0.17993647]],\n",
       "\n",
       "       [[ 0.19202768, -0.00726231,  0.00861766],\n",
       "        [-0.00726231,  0.21124166,  0.02385372],\n",
       "        [ 0.00861766,  0.02385372,  0.26658358]],\n",
       "\n",
       "       [[ 0.21883855, -0.0015765 ,  0.02425131],\n",
       "        [-0.0015765 ,  0.22675749,  0.03211054],\n",
       "        [ 0.02425131,  0.03211054,  0.31294379]]])"
      ]
     },
     "execution_count": 109,
     "metadata": {},
     "output_type": "execute_result"
    }
   ],
   "source": [
    "cis"
   ]
  },
  {
   "cell_type": "code",
   "execution_count": 142,
   "metadata": {},
   "outputs": [],
   "source": [
    "cis = d_orig.bootstrap_covs(bias_correction=True, B=1000)"
   ]
  },
  {
   "cell_type": "code",
   "execution_count": 143,
   "metadata": {},
   "outputs": [
    {
     "data": {
      "text/plain": [
       "array([[[ 0.15223608, -0.01292397, -0.01651098],\n",
       "        [-0.01292397,  0.19240113,  0.01592663],\n",
       "        [-0.01651098,  0.01592663,  0.19384668]],\n",
       "\n",
       "       [[ 0.19238756, -0.00699839,  0.00872394],\n",
       "        [-0.00699839,  0.21070029,  0.02368889],\n",
       "        [ 0.00872394,  0.02368889,  0.26627927]],\n",
       "\n",
       "       [[ 0.2195354 , -0.00119212,  0.02399211],\n",
       "        [-0.00119212,  0.22657348,  0.03065855],\n",
       "        [ 0.02399211,  0.03065855,  0.31239055]]])"
      ]
     },
     "execution_count": 143,
     "metadata": {},
     "output_type": "execute_result"
    }
   ],
   "source": [
    "cis"
   ]
  },
  {
   "cell_type": "code",
   "execution_count": 144,
   "metadata": {},
   "outputs": [
    {
     "data": {
      "text/plain": [
       "array([[[ 1.64739558e-01, -6.98373032e-03, -4.17432904e-03],\n",
       "        [-6.98373032e-03,  1.59469167e-01,  1.58613301e-02],\n",
       "        [-4.17432904e-03,  1.58613301e-02,  1.28936642e-01]],\n",
       "\n",
       "       [[ 1.84694156e-01, -3.19842661e-03, -1.07405274e-03],\n",
       "        [-3.19842661e-03,  2.67469243e-01,  3.12190640e-02],\n",
       "        [-1.07405274e-03,  3.12190640e-02,  3.80804354e-01]],\n",
       "\n",
       "       [[ 1.98588563e-01,  1.52196594e-04,  1.95032828e-03],\n",
       "        [ 1.52196594e-04,  3.27814523e-01,  4.04793145e-02],\n",
       "        [ 1.95032828e-03,  4.04793145e-02,  5.16389266e-01]]])"
      ]
     },
     "execution_count": 144,
     "metadata": {},
     "output_type": "execute_result"
    }
   ],
   "source": [
    "d.bootstrap_covs(bias_correction=False, B=1000)"
   ]
  },
  {
   "cell_type": "code",
   "execution_count": 145,
   "metadata": {},
   "outputs": [
    {
     "data": {
      "text/plain": [
       "array([[[ 1.23933927e-01, -7.19440902e-03, -4.52130752e-03],\n",
       "        [-7.19440902e-03,  1.28829188e-01,  1.57922725e-02],\n",
       "        [-4.52130752e-03,  1.57922725e-02,  1.05781346e-01]],\n",
       "\n",
       "       [[ 1.40663111e-01, -3.16359676e-03, -1.20428299e-03],\n",
       "        [-3.16359676e-03,  2.20916818e-01,  3.14401267e-02],\n",
       "        [-1.20428299e-03,  3.14401267e-02,  3.35132087e-01]],\n",
       "\n",
       "       [[ 1.51555866e-01,  3.96539427e-04,  1.72468667e-03],\n",
       "        [ 3.96539427e-04,  2.72891812e-01,  4.06234834e-02],\n",
       "        [ 1.72468667e-03,  4.06234834e-02,  4.64063119e-01]]])"
      ]
     },
     "execution_count": 145,
     "metadata": {},
     "output_type": "execute_result"
    }
   ],
   "source": [
    "d.bootstrap_covs(bias_correction=True, B=1000)"
   ]
  },
  {
   "cell_type": "code",
   "execution_count": 146,
   "metadata": {},
   "outputs": [
    {
     "data": {
      "text/plain": [
       "[('Ctrl', '0'),\n",
       " ('Ctrl', '17'),\n",
       " ('LS1', '0'),\n",
       " ('LS1', '17'),\n",
       " ('LS2', '0'),\n",
       " ('LS2', '17')]"
      ]
     },
     "execution_count": 146,
     "metadata": {},
     "output_type": "execute_result"
    }
   ],
   "source": [
    "d.samples"
   ]
  },
  {
   "cell_type": "code",
   "execution_count": 147,
   "metadata": {},
   "outputs": [
    {
     "data": {
      "text/plain": [
       "[('Ctrl', 0), ('Ctrl', 17), ('LS1', 0), ('LS1', 17), ('LS2', 0), ('LS2', 17)]"
      ]
     },
     "execution_count": 147,
     "metadata": {},
     "output_type": "execute_result"
    }
   ],
   "source": [
    "d_orig.samples"
   ]
  },
  {
   "cell_type": "code",
   "execution_count": 153,
   "metadata": {},
   "outputs": [],
   "source": [
    "da = TiledTemporalFreqs(tiles, freqs=freq_mat, depths=vcf.N, diploids=ndiploids, samples=design, gintervals=gi)"
   ]
  },
  {
   "cell_type": "code",
   "execution_count": 154,
   "metadata": {},
   "outputs": [
    {
     "data": {
      "text/plain": [
       "array([[[ 0.11101553, -0.01276927, -0.01793371],\n",
       "        [-0.01276927,  0.15460198,  0.01523274],\n",
       "        [-0.01793371,  0.01523274,  0.15884918]],\n",
       "\n",
       "       [[ 0.1428758 , -0.00693652,  0.00862564],\n",
       "        [-0.00693652,  0.17083115,  0.02340974],\n",
       "        [ 0.00862564,  0.02340974,  0.21297644]],\n",
       "\n",
       "       [[ 0.16408569, -0.00125207,  0.02385345],\n",
       "        [-0.00125207,  0.18449644,  0.03165025],\n",
       "        [ 0.02385345,  0.03165025,  0.2451751 ]]])"
      ]
     },
     "execution_count": 154,
     "metadata": {},
     "output_type": "execute_result"
    }
   ],
   "source": [
    "da.bootstrap_covs(bias_correction=True, B=1000)"
   ]
  },
  {
   "cell_type": "code",
   "execution_count": 156,
   "metadata": {},
   "outputs": [
    {
     "data": {
      "text/plain": [
       "array([[[ 0.15658179, -0.01329954, -0.01855293],\n",
       "        [-0.01329954,  0.19376705,  0.01506235],\n",
       "        [-0.01855293,  0.01506235,  0.17660543]],\n",
       "\n",
       "       [[ 0.19224338, -0.00722405,  0.0089552 ],\n",
       "        [-0.00722405,  0.21088039,  0.02386709],\n",
       "        [ 0.0089552 ,  0.02386709,  0.26673605]],\n",
       "\n",
       "       [[ 0.21846683, -0.0010027 ,  0.02436376],\n",
       "        [-0.0010027 ,  0.22454177,  0.03155517],\n",
       "        [ 0.02436376,  0.03155517,  0.31371142]]])"
      ]
     },
     "execution_count": 156,
     "metadata": {},
     "output_type": "execute_result"
    }
   ],
   "source": [
    "db = TiledTemporalFreqs(tiles, freqs=freq_mat, samples=design, gintervals=gi)\n",
    "db.bootstrap_covs(bias_correction=False, B=1000)"
   ]
  },
  {
   "cell_type": "code",
   "execution_count": null,
   "metadata": {},
   "outputs": [],
   "source": []
  }
 ],
 "metadata": {
  "kernelspec": {
   "display_name": "Python 3",
   "language": "python",
   "name": "python3"
  },
  "language_info": {
   "codemirror_mode": {
    "name": "ipython",
    "version": 3
   },
   "file_extension": ".py",
   "mimetype": "text/x-python",
   "name": "python",
   "nbconvert_exporter": "python",
   "pygments_lexer": "ipython3",
   "version": "3.6.7"
  }
 },
 "nbformat": 4,
 "nbformat_minor": 2
}
