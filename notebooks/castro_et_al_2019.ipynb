{
 "cells": [
  {
   "cell_type": "markdown",
   "metadata": {},
   "source": [
    "# Castro et al. (2019) Data Processing and Analysis"
   ]
  },
  {
   "cell_type": "markdown",
   "metadata": {},
   "source": [
    "## Setup"
   ]
  },
  {
   "cell_type": "code",
   "execution_count": 1,
   "metadata": {},
   "outputs": [],
   "source": [
    "import os\n",
    "import sys\n",
    "import glob\n",
    "nb_dir = os.path.split(os.getcwd())[0]\n",
    "if nb_dir not in sys.path:\n",
    "    sys.path.append(nb_dir)\n",
    "%load_ext autoreload\n",
    "%autoreload 2\n",
    "%reload_ext autoreload"
   ]
  },
  {
   "cell_type": "code",
   "execution_count": 2,
   "metadata": {},
   "outputs": [],
   "source": [
    "import re\n",
    "import pickle\n",
    "from collections import Counter\n",
    "from functools import reduce\n",
    "\n",
    "import pandas as pd\n",
    "from collections import defaultdict\n",
    "import numpy as np\n",
    "import matplotlib.pyplot as plt\n",
    "from matplotlib import cm\n",
    "import matplotlib as mpl"
   ]
  },
  {
   "cell_type": "code",
   "execution_count": 3,
   "metadata": {},
   "outputs": [],
   "source": [
    "from cvtk.cvtk import TemporalFreqs, TiledTemporalFreqs\n",
    "from cvtk.cov import stack_temporal_covariances\n",
    "import cvtk.variant_files as vf\n",
    "from cvtk.gintervals import GenomicIntervals\n",
    "from cvtk.pca import FreqPCA\n",
    "from cvtk.plots import rep_plot_pca, correction_diagnostic_plot\n",
    "from cvtk.utils import integerize\n",
    "from cvtk.utils import extract_empirical_nulls_diagonals, extract_temporal_cov_diagonals\n",
    "from cvtk.cov import stack_replicate_covariances, stack_temporal_covs_by_group\n",
    "from cvtk.variant_files import VCFFile"
   ]
  },
  {
   "cell_type": "code",
   "execution_count": 4,
   "metadata": {},
   "outputs": [],
   "source": [
    "%matplotlib inline\n",
    "#%config InlineBackend.figure_format = 'svg'\n",
    "mpl.rcParams['figure.figsize'] = (8.0, 4.0)\n",
    "mpl.rcParams['figure.dpi'] = 200"
   ]
  },
  {
   "cell_type": "markdown",
   "metadata": {},
   "source": [
    "# Varianta Data Loading"
   ]
  },
  {
   "cell_type": "markdown",
   "metadata": {},
   "source": [
    "### Load in VCF data"
   ]
  },
  {
   "cell_type": "code",
   "execution_count": 5,
   "metadata": {},
   "outputs": [
    {
     "name": "stdout",
     "output_type": "stream",
     "text": [
      "reading file '../data/castro_et_al_2019/beagle_genMap.all.impute.vcf.gz'...\n",
      "file '../data/castro_et_al_2019/beagle_genMap.all.impute.vcf.gz' loaded.\n",
      "total time to load VCF file: 8.952168663342794 mins.\n"
     ]
    }
   ],
   "source": [
    "vcf = VCFFile('../data/castro_et_al_2019/beagle_genMap.all.impute.vcf.gz')"
   ]
  },
  {
   "cell_type": "markdown",
   "metadata": {},
   "source": [
    "Remove fixed sites — those that are not polymorphic in any samples / timepoints. These just needlessly shrink the covariance towards zero."
   ]
  },
  {
   "cell_type": "markdown",
   "metadata": {},
   "source": [
    "### Sample Data\n",
    "\n",
    "The samples names to line/generation mapping was not in a simple text file, but I found the relevant information in the vcftools commands that were at the beginning of the file `Longshanks_F0F17.summary_stats.tar.gz`. From this I created `samples.txt`, which is read in and parsed below."
   ]
  },
  {
   "cell_type": "code",
   "execution_count": 6,
   "metadata": {},
   "outputs": [],
   "source": [
    "samples = pd.read_csv(\"../data/castro_et_al_2019/samples.txt\", header=None, names = ('line', 'individual'))\n",
    "sample_map = {k:v for k, v in zip(samples['individual'], samples['line'])}\n",
    "\n",
    "subpop_indices = defaultdict(list)\n",
    "for i, k in enumerate(vcf.samples):\n",
    "    subpop_indices[sample_map[k.decode()]].append(i)"
   ]
  },
  {
   "cell_type": "markdown",
   "metadata": {},
   "source": [
    "From this, we can map the `vcf.geno_mat` table to subpopulation counts. "
   ]
  },
  {
   "cell_type": "code",
   "execution_count": 7,
   "metadata": {},
   "outputs": [
    {
     "name": "stderr",
     "output_type": "stream",
     "text": [
      "/home/vinceb/projects/cvtk/cvtk/variant_files.py:310: FutureWarning: arrays to stack must be passed as a \"sequence\" type such as list or tuple. Support for non-sequence iterables such as generators is deprecated as of NumPy 1.16 and will raise an error in the future.\n",
      "  self.mat = np.stack(counts_mat.values())\n"
     ]
    }
   ],
   "source": [
    "counts_mat = vcf.count_alleles_subpops(subpop_indices)"
   ]
  },
  {
   "cell_type": "code",
   "execution_count": 8,
   "metadata": {},
   "outputs": [
    {
     "data": {
      "text/plain": [
       "dict_keys(['Ctrl_F17', 'LS1_F17', 'LS2_F17', 'Ctrl_F0', 'LS1_F0', 'LS2_F0'])"
      ]
     },
     "execution_count": 8,
     "metadata": {},
     "output_type": "execute_result"
    }
   ],
   "source": [
    "vcf.subpops"
   ]
  },
  {
   "cell_type": "markdown",
   "metadata": {},
   "source": [
    "Now we count the number of diploids in each sample."
   ]
  },
  {
   "cell_type": "code",
   "execution_count": 9,
   "metadata": {},
   "outputs": [],
   "source": [
    "ndiploids = [Counter(sample_map.values())[k] for k in vcf.subpops]"
   ]
  },
  {
   "cell_type": "code",
   "execution_count": 10,
   "metadata": {},
   "outputs": [],
   "source": [
    "def parse_samples(x):\n",
    "    line, gen = x.split('_')\n",
    "    return (line, gen[1:])\n",
    "\n",
    "design = [parse_samples(x) for x in vcf.subpops]"
   ]
  },
  {
   "cell_type": "code",
   "execution_count": 11,
   "metadata": {},
   "outputs": [],
   "source": [
    "freq_mat_all = vcf.calc_freqs()"
   ]
  },
  {
   "cell_type": "code",
   "execution_count": 12,
   "metadata": {},
   "outputs": [
    {
     "name": "stdout",
     "output_type": "stream",
     "text": [
      "number of loci:  31944210\n"
     ]
    }
   ],
   "source": [
    "print(\"number of loci: \", freq_mat_all.shape[1])"
   ]
  },
  {
   "cell_type": "markdown",
   "metadata": {},
   "source": [
    "With the frequencies calculated, now we filter out all non-segregating sites."
   ]
  },
  {
   "cell_type": "code",
   "execution_count": 13,
   "metadata": {},
   "outputs": [
    {
     "name": "stdout",
     "output_type": "stream",
     "text": [
      "number of loci:  8162172\n",
      "loci not segregating removed:  23782038\n"
     ]
    }
   ],
   "source": [
    "vcf.remove_fixed()\n",
    "freq_mat = vcf.calc_freqs()\n",
    "print(\"number of loci: \", freq_mat.shape[1])\n",
    "print(\"loci not segregating removed: \", freq_mat_all.shape[1] - freq_mat.shape[1])"
   ]
  },
  {
   "cell_type": "code",
   "execution_count": 14,
   "metadata": {},
   "outputs": [],
   "source": [
    "gi = vcf.build_gintervals()"
   ]
  },
  {
   "cell_type": "markdown",
   "metadata": {},
   "source": [
    "## Replicate Covariance Analysis"
   ]
  },
  {
   "cell_type": "code",
   "execution_count": 15,
   "metadata": {},
   "outputs": [],
   "source": [
    "tile_width = 10e6\n",
    "gi.infer_seqlens()\n",
    "tiles = GenomicIntervals.from_tiles(gi.seqlens, width=tile_width)"
   ]
  },
  {
   "cell_type": "code",
   "execution_count": 16,
   "metadata": {},
   "outputs": [],
   "source": [
    "d = TiledTemporalFreqs(tiles, freqs=freq_mat, depths=vcf.N, diploids=ndiploids, samples=design, gintervals=gi)"
   ]
  },
  {
   "cell_type": "code",
   "execution_count": 17,
   "metadata": {},
   "outputs": [
    {
     "data": {
      "text/plain": [
       "[('Ctrl', '0'),\n",
       " ('Ctrl', '17'),\n",
       " ('LS1', '0'),\n",
       " ('LS1', '17'),\n",
       " ('LS2', '0'),\n",
       " ('LS2', '17')]"
      ]
     },
     "execution_count": 17,
     "metadata": {},
     "output_type": "execute_result"
    }
   ],
   "source": [
    "d.samples"
   ]
  },
  {
   "cell_type": "code",
   "execution_count": 18,
   "metadata": {},
   "outputs": [],
   "source": [
    "autosomes = list(set(gi.intervals.keys()) - set('chrX'))"
   ]
  },
  {
   "cell_type": "code",
   "execution_count": 19,
   "metadata": {},
   "outputs": [
    {
     "data": {
      "application/vnd.jupyter.widget-view+json": {
       "model_id": "1d872a3a54ff47b2b0b9335ca694b8a2",
       "version_major": 2,
       "version_minor": 0
      },
      "text/plain": [
       "HBox(children=(IntProgress(value=0, description='bootstraps', max=5000, style=ProgressStyle(description_width=…"
      ]
     },
     "metadata": {},
     "output_type": "display_data"
    },
    {
     "name": "stdout",
     "output_type": "stream",
     "text": [
      "\n"
     ]
    }
   ],
   "source": [
    "covs_cis = d.bootstrap_cov(B=5000, keep_seqids=autosomes, average_replicates=False, progress_bar=True)"
   ]
  },
  {
   "cell_type": "code",
   "execution_count": 20,
   "metadata": {},
   "outputs": [
    {
     "data": {
      "text/plain": [
       "array([[[ 0.07654983, -0.0194062 , -0.01578166],\n",
       "        [-0.0194062 ,  0.10807117,  0.01283285],\n",
       "        [-0.01578166,  0.01283285,  0.12557498]],\n",
       "\n",
       "       [[ 0.1029417 , -0.00699106, -0.00235623],\n",
       "        [-0.00699106,  0.13691368,  0.02631755],\n",
       "        [-0.00235623,  0.02631755,  0.16493679]],\n",
       "\n",
       "       [[ 0.11919767,  0.00706202,  0.01439603],\n",
       "        [ 0.00706202,  0.15566249,  0.03968962],\n",
       "        [ 0.01439603,  0.03968962,  0.19002903]]])"
      ]
     },
     "execution_count": 20,
     "metadata": {},
     "output_type": "execute_result"
    }
   ],
   "source": [
    "covs_cis"
   ]
  },
  {
   "cell_type": "code",
   "execution_count": 21,
   "metadata": {},
   "outputs": [],
   "source": [
    "with open('../data/castro_et_al_2019/covs_bootstrap_10e6.npy', 'wb') as f:\n",
    "    np.save(f, covs_cis)"
   ]
  },
  {
   "cell_type": "markdown",
   "metadata": {},
   "source": [
    "### Bootstrap the Convergence Correlation"
   ]
  },
  {
   "cell_type": "code",
   "execution_count": 22,
   "metadata": {},
   "outputs": [
    {
     "name": "stderr",
     "output_type": "stream",
     "text": [
      "/home/vinceb/projects/cvtk/cvtk/G.py:93: RuntimeWarning: invalid value encountered in sqrt\n",
      "  sdmat = np.sqrt(varmat[:, tr, tc, :, :].mean(axis=1))\n"
     ]
    },
    {
     "data": {
      "application/vnd.jupyter.widget-view+json": {
       "model_id": "701e62a6479046ec9aef62cc8cd63bf4",
       "version_major": 2,
       "version_minor": 0
      },
      "text/plain": [
       "HBox(children=(IntProgress(value=0, description='bootstraps', max=5000, style=ProgressStyle(description_width=…"
      ]
     },
     "metadata": {},
     "output_type": "display_data"
    },
    {
     "name": "stdout",
     "output_type": "stream",
     "text": [
      "\n"
     ]
    }
   ],
   "source": [
    "convergence_corr = d.bootstrap_convergence_corr(B=5000, progress_bar=True)"
   ]
  },
  {
   "cell_type": "code",
   "execution_count": 23,
   "metadata": {},
   "outputs": [
    {
     "data": {
      "text/plain": [
       "array([[[[-0.01372707]]],\n",
       "\n",
       "\n",
       "       [[[ 0.04242583]]],\n",
       "\n",
       "\n",
       "       [[[ 0.10418976]]]])"
      ]
     },
     "execution_count": 23,
     "metadata": {},
     "output_type": "execute_result"
    }
   ],
   "source": [
    "convergence_corr"
   ]
  },
  {
   "cell_type": "markdown",
   "metadata": {},
   "source": [
    "## Analysis Excluding Chromosomes 5 and 10"
   ]
  },
  {
   "cell_type": "code",
   "execution_count": 24,
   "metadata": {},
   "outputs": [],
   "source": [
    "autosomes_sans_chr5_and_chr10 = [chr for chr in autosomes if chr not in ('chr5', 'chr10')]"
   ]
  },
  {
   "cell_type": "code",
   "execution_count": 25,
   "metadata": {},
   "outputs": [
    {
     "data": {
      "application/vnd.jupyter.widget-view+json": {
       "model_id": "473051b2ef9141b3acbb6a78b5061280",
       "version_major": 2,
       "version_minor": 0
      },
      "text/plain": [
       "HBox(children=(IntProgress(value=0, description='bootstraps', max=5000, style=ProgressStyle(description_width=…"
      ]
     },
     "metadata": {},
     "output_type": "display_data"
    },
    {
     "name": "stdout",
     "output_type": "stream",
     "text": [
      "\n"
     ]
    }
   ],
   "source": [
    "covs_sans_chr5_and_chr1_cis = d.bootstrap_cov(B=5000, keep_seqids=autosomes_sans_chr5_and_chr10, \n",
    "                                              average_replicates=False, progress_bar=True)"
   ]
  },
  {
   "cell_type": "code",
   "execution_count": 26,
   "metadata": {},
   "outputs": [
    {
     "data": {
      "text/plain": [
       "array([[[ 0.07019009, -0.01928762, -0.01136246],\n",
       "        [-0.01928762,  0.10834443,  0.01373659],\n",
       "        [-0.01136246,  0.01373659,  0.15420427]],\n",
       "\n",
       "       [[ 0.1029417 , -0.00699106, -0.00235623],\n",
       "        [-0.00699106,  0.13691368,  0.02631755],\n",
       "        [-0.00235623,  0.02631755,  0.16493679]],\n",
       "\n",
       "       [[ 0.11724832,  0.00930637,  0.02084401],\n",
       "        [ 0.00930637,  0.15775763,  0.03997536],\n",
       "        [ 0.02084401,  0.03997536,  0.19935374]]])"
      ]
     },
     "execution_count": 26,
     "metadata": {},
     "output_type": "execute_result"
    }
   ],
   "source": [
    "covs_sans_chr5_and_chr1_cis"
   ]
  },
  {
   "cell_type": "code",
   "execution_count": 27,
   "metadata": {},
   "outputs": [],
   "source": [
    "with open('../data/castro_et_al_2019/covs_sans_chr5_and_chr1_bootstrap_10e6.npy', 'wb') as f:\n",
    "    np.save(f, covs_sans_chr5_and_chr1_cis)"
   ]
  },
  {
   "cell_type": "code",
   "execution_count": null,
   "metadata": {},
   "outputs": [],
   "source": []
  }
 ],
 "metadata": {
  "kernelspec": {
   "display_name": "Python 3",
   "language": "python",
   "name": "python3"
  },
  "language_info": {
   "codemirror_mode": {
    "name": "ipython",
    "version": 3
   },
   "file_extension": ".py",
   "mimetype": "text/x-python",
   "name": "python",
   "nbconvert_exporter": "python",
   "pygments_lexer": "ipython3",
   "version": "3.6.7"
  }
 },
 "nbformat": 4,
 "nbformat_minor": 2
}
