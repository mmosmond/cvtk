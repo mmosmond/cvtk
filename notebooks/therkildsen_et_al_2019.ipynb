{
 "cells": [
  {
   "cell_type": "markdown",
   "metadata": {},
   "source": [
    "# Therkildsen et al. (2019) Data Processing and Analysis"
   ]
  },
  {
   "cell_type": "markdown",
   "metadata": {},
   "source": [
    "## Setup"
   ]
  },
  {
   "cell_type": "code",
   "execution_count": 1,
   "metadata": {},
   "outputs": [],
   "source": [
    "import os\n",
    "import sys\n",
    "nb_dir = os.path.split(os.getcwd())[0]\n",
    "if nb_dir not in sys.path:\n",
    "    sys.path.append(nb_dir)\n",
    "%load_ext autoreload\n",
    "%autoreload 2\n",
    "%reload_ext autoreload"
   ]
  },
  {
   "cell_type": "code",
   "execution_count": 2,
   "metadata": {},
   "outputs": [],
   "source": [
    "import re\n",
    "import pickle\n",
    "\n",
    "import pandas as pd\n",
    "import numpy as np\n",
    "import matplotlib.pyplot as plt\n",
    "from matplotlib import cm\n",
    "import matplotlib as mpl"
   ]
  },
  {
   "cell_type": "code",
   "execution_count": 3,
   "metadata": {},
   "outputs": [],
   "source": [
    "from cvtk.cvtk import TemporalFreqs, TiledTemporalFreqs\n",
    "from cvtk.cov import stack_temporal_covariances\n",
    "import cvtk.variant_files as vf\n",
    "from cvtk.gintervals import GenomicIntervals\n",
    "from cvtk.pca import FreqPCA\n",
    "from cvtk.plots import rep_plot_pca, correction_diagnostic_plot\n",
    "from cvtk.utils import integerize\n",
    "from cvtk.utils import extract_empirical_nulls_diagonals, extract_temporal_cov_diagonals\n",
    "from cvtk.cov import stack_replicate_covariances, stack_temporal_covs_by_group"
   ]
  },
  {
   "cell_type": "code",
   "execution_count": 4,
   "metadata": {},
   "outputs": [],
   "source": [
    "%matplotlib inline\n",
    "#%config InlineBackend.figure_format = 'svg'\n",
    "mpl.rcParams['figure.figsize'] = (8.0, 4.0)\n",
    "mpl.rcParams['figure.dpi'] = 200"
   ]
  },
  {
   "cell_type": "markdown",
   "metadata": {},
   "source": [
    "# Data and Annotation Loading"
   ]
  },
  {
   "cell_type": "code",
   "execution_count": 5,
   "metadata": {},
   "outputs": [
    {
     "name": "stderr",
     "output_type": "stream",
     "text": [
      "/home/vinceb/miniconda3/envs/basesci/lib/python3.6/site-packages/IPython/core/interactiveshell.py:3049: DtypeWarning: Columns (27) have mixed types. Specify dtype option on import or set low_memory=False.\n",
      "  interactivity=interactivity, compiler=compiler, result=result)\n"
     ]
    }
   ],
   "source": [
    "rd = pd.read_csv('../data/therkildsen_et_al_2019/Menidia_SelectionExp_AFreqs_Depths.txt', delimiter='\\t')"
   ]
  },
  {
   "cell_type": "code",
   "execution_count": 97,
   "metadata": {},
   "outputs": [
    {
     "data": {
      "text/html": [
       "<div>\n",
       "<style scoped>\n",
       "    .dataframe tbody tr th:only-of-type {\n",
       "        vertical-align: middle;\n",
       "    }\n",
       "\n",
       "    .dataframe tbody tr th {\n",
       "        vertical-align: top;\n",
       "    }\n",
       "\n",
       "    .dataframe thead th {\n",
       "        text-align: right;\n",
       "    }\n",
       "</style>\n",
       "<table border=\"1\" class=\"dataframe\">\n",
       "  <thead>\n",
       "    <tr style=\"text-align: right;\">\n",
       "      <th></th>\n",
       "      <th>SNP</th>\n",
       "      <th>Contig</th>\n",
       "      <th>Pos</th>\n",
       "      <th>MajorAllele</th>\n",
       "      <th>MinorAllele</th>\n",
       "      <th>RefAllele</th>\n",
       "      <th>RGen0_MAF</th>\n",
       "      <th>RGen0_nInd</th>\n",
       "      <th>RGen0_Depth</th>\n",
       "      <th>D1Gen5_MAF</th>\n",
       "      <th>...</th>\n",
       "      <th>U1Gen5_nInd</th>\n",
       "      <th>U1Gen5_Depth</th>\n",
       "      <th>U2Gen5_MAF</th>\n",
       "      <th>U2Gen5_nInd</th>\n",
       "      <th>U2Gen5_Depth</th>\n",
       "      <th>MedakaChr</th>\n",
       "      <th>Var_type</th>\n",
       "      <th>Impact</th>\n",
       "      <th>GeneStart</th>\n",
       "      <th>GeneStop</th>\n",
       "    </tr>\n",
       "  </thead>\n",
       "  <tbody>\n",
       "    <tr>\n",
       "      <th>0</th>\n",
       "      <td>Contig5248:100</td>\n",
       "      <td>Contig5248</td>\n",
       "      <td>100</td>\n",
       "      <td>C</td>\n",
       "      <td>T</td>\n",
       "      <td>C</td>\n",
       "      <td>0.029186</td>\n",
       "      <td>53.0</td>\n",
       "      <td>106.0</td>\n",
       "      <td>0.000002</td>\n",
       "      <td>...</td>\n",
       "      <td>42.0</td>\n",
       "      <td>72.0</td>\n",
       "      <td>0.081617</td>\n",
       "      <td>28.0</td>\n",
       "      <td>47.0</td>\n",
       "      <td>1</td>\n",
       "      <td>3_prime_UTR_variant</td>\n",
       "      <td>MODIFIER</td>\n",
       "      <td>164201.0</td>\n",
       "      <td>167143.0</td>\n",
       "    </tr>\n",
       "    <tr>\n",
       "      <th>1</th>\n",
       "      <td>Contig5248:1011</td>\n",
       "      <td>Contig5248</td>\n",
       "      <td>1011</td>\n",
       "      <td>T</td>\n",
       "      <td>A</td>\n",
       "      <td>T</td>\n",
       "      <td>0.270349</td>\n",
       "      <td>59.0</td>\n",
       "      <td>122.0</td>\n",
       "      <td>0.244544</td>\n",
       "      <td>...</td>\n",
       "      <td>26.0</td>\n",
       "      <td>54.0</td>\n",
       "      <td>0.378888</td>\n",
       "      <td>44.0</td>\n",
       "      <td>94.0</td>\n",
       "      <td>1</td>\n",
       "      <td>3_prime_UTR_variant</td>\n",
       "      <td>MODIFIER</td>\n",
       "      <td>164201.0</td>\n",
       "      <td>167143.0</td>\n",
       "    </tr>\n",
       "    <tr>\n",
       "      <th>2</th>\n",
       "      <td>Contig5248:1012</td>\n",
       "      <td>Contig5248</td>\n",
       "      <td>1012</td>\n",
       "      <td>A</td>\n",
       "      <td>T</td>\n",
       "      <td>A</td>\n",
       "      <td>0.558003</td>\n",
       "      <td>59.0</td>\n",
       "      <td>126.0</td>\n",
       "      <td>0.616961</td>\n",
       "      <td>...</td>\n",
       "      <td>43.0</td>\n",
       "      <td>94.0</td>\n",
       "      <td>0.304023</td>\n",
       "      <td>45.0</td>\n",
       "      <td>99.0</td>\n",
       "      <td>1</td>\n",
       "      <td>3_prime_UTR_variant</td>\n",
       "      <td>MODIFIER</td>\n",
       "      <td>164201.0</td>\n",
       "      <td>167143.0</td>\n",
       "    </tr>\n",
       "    <tr>\n",
       "      <th>3</th>\n",
       "      <td>Contig5248:1013</td>\n",
       "      <td>Contig5248</td>\n",
       "      <td>1013</td>\n",
       "      <td>A</td>\n",
       "      <td>T</td>\n",
       "      <td>A</td>\n",
       "      <td>0.000003</td>\n",
       "      <td>60.0</td>\n",
       "      <td>126.0</td>\n",
       "      <td>0.000001</td>\n",
       "      <td>...</td>\n",
       "      <td>43.0</td>\n",
       "      <td>96.0</td>\n",
       "      <td>0.000001</td>\n",
       "      <td>46.0</td>\n",
       "      <td>101.0</td>\n",
       "      <td>1</td>\n",
       "      <td>3_prime_UTR_variant</td>\n",
       "      <td>MODIFIER</td>\n",
       "      <td>164201.0</td>\n",
       "      <td>167143.0</td>\n",
       "    </tr>\n",
       "    <tr>\n",
       "      <th>4</th>\n",
       "      <td>Contig5248:1033</td>\n",
       "      <td>Contig5248</td>\n",
       "      <td>1033</td>\n",
       "      <td>T</td>\n",
       "      <td>C</td>\n",
       "      <td>T</td>\n",
       "      <td>0.021789</td>\n",
       "      <td>64.0</td>\n",
       "      <td>144.0</td>\n",
       "      <td>0.000001</td>\n",
       "      <td>...</td>\n",
       "      <td>46.0</td>\n",
       "      <td>106.0</td>\n",
       "      <td>0.000001</td>\n",
       "      <td>45.0</td>\n",
       "      <td>101.0</td>\n",
       "      <td>1</td>\n",
       "      <td>3_prime_UTR_variant</td>\n",
       "      <td>MODIFIER</td>\n",
       "      <td>164201.0</td>\n",
       "      <td>167143.0</td>\n",
       "    </tr>\n",
       "  </tbody>\n",
       "</table>\n",
       "<p>5 rows × 32 columns</p>\n",
       "</div>"
      ],
      "text/plain": [
       "               SNP      Contig   Pos MajorAllele MinorAllele RefAllele  \\\n",
       "0   Contig5248:100  Contig5248   100           C           T         C   \n",
       "1  Contig5248:1011  Contig5248  1011           T           A         T   \n",
       "2  Contig5248:1012  Contig5248  1012           A           T         A   \n",
       "3  Contig5248:1013  Contig5248  1013           A           T         A   \n",
       "4  Contig5248:1033  Contig5248  1033           T           C         T   \n",
       "\n",
       "   RGen0_MAF  RGen0_nInd  RGen0_Depth  D1Gen5_MAF  ...  U1Gen5_nInd  \\\n",
       "0   0.029186        53.0        106.0    0.000002  ...         42.0   \n",
       "1   0.270349        59.0        122.0    0.244544  ...         26.0   \n",
       "2   0.558003        59.0        126.0    0.616961  ...         43.0   \n",
       "3   0.000003        60.0        126.0    0.000001  ...         43.0   \n",
       "4   0.021789        64.0        144.0    0.000001  ...         46.0   \n",
       "\n",
       "   U1Gen5_Depth  U2Gen5_MAF  U2Gen5_nInd  U2Gen5_Depth  MedakaChr  \\\n",
       "0          72.0    0.081617         28.0          47.0          1   \n",
       "1          54.0    0.378888         44.0          94.0          1   \n",
       "2          94.0    0.304023         45.0          99.0          1   \n",
       "3          96.0    0.000001         46.0         101.0          1   \n",
       "4         106.0    0.000001         45.0         101.0          1   \n",
       "\n",
       "              Var_type    Impact  GeneStart  GeneStop  \n",
       "0  3_prime_UTR_variant  MODIFIER   164201.0  167143.0  \n",
       "1  3_prime_UTR_variant  MODIFIER   164201.0  167143.0  \n",
       "2  3_prime_UTR_variant  MODIFIER   164201.0  167143.0  \n",
       "3  3_prime_UTR_variant  MODIFIER   164201.0  167143.0  \n",
       "4  3_prime_UTR_variant  MODIFIER   164201.0  167143.0  \n",
       "\n",
       "[5 rows x 32 columns]"
      ]
     },
     "execution_count": 97,
     "metadata": {},
     "output_type": "execute_result"
    }
   ],
   "source": [
    "rd.head()"
   ]
  },
  {
   "cell_type": "markdown",
   "metadata": {},
   "source": [
    "Extract out the matrices. We duplicate the first generation for each replicate population, but it is shared so the shared sampling noise must be accounted for. We wish to build matrices with the following sample layout:"
   ]
  },
  {
   "cell_type": "code",
   "execution_count": 7,
   "metadata": {},
   "outputs": [
    {
     "data": {
      "text/plain": [
       "['RGen0',\n",
       " 'D1Gen5',\n",
       " 'RGen0',\n",
       " 'D2Gen5',\n",
       " 'RGen0',\n",
       " 'R1Gen5',\n",
       " 'RGen0',\n",
       " 'R2Gen5',\n",
       " 'RGen0',\n",
       " 'U1Gen5',\n",
       " 'RGen0',\n",
       " 'U2Gen5']"
      ]
     },
     "execution_count": 7,
     "metadata": {},
     "output_type": "execute_result"
    }
   ],
   "source": [
    "sample_layout = ['RGen0', 'D1Gen5', 'RGen0', 'D2Gen5', 'RGen0', 'R1Gen5', 'RGen0', 'R2Gen5', 'RGen0', 'U1Gen5', 'RGen0', 'U2Gen5']\n",
    "sample_layout"
   ]
  },
  {
   "cell_type": "code",
   "execution_count": 8,
   "metadata": {},
   "outputs": [],
   "source": [
    "freqs = rd[[s + '_MAF' for s in sample_layout]].values\n",
    "depths = rd[[s + '_Depth' for s in sample_layout]].values\n",
    "diploids = rd[[s + '_nInd' for s in sample_layout]].values"
   ]
  },
  {
   "cell_type": "code",
   "execution_count": null,
   "metadata": {},
   "outputs": [],
   "source": [
    "gi = GenomicIntervals()\n",
    "for row in rd.itertuples(index=False):\n",
    "    #seqid = row[1] # contig\n",
    "    seqid = row[27] # MedakaChr\n",
    "    gi.append(seqid, int(row[2]))\n",
    "#gi.infer_seqlens()"
   ]
  },
  {
   "cell_type": "code",
   "execution_count": 10,
   "metadata": {},
   "outputs": [],
   "source": [
    "samples = [('D1', 0), ('D1', 5), ('D2', 0), ('D2', 5), ('R1', 0), ('R1', 5), ('R2', 0), ('R2', 5), ('U1', 0), ('U1', 5), ('U2', 0), ('U2', 5)]"
   ]
  },
  {
   "cell_type": "code",
   "execution_count": 24,
   "metadata": {},
   "outputs": [],
   "source": [
    "tile_width = 1e3\n",
    "tiles = GenomicIntervals.from_tiles(gi.seqlens, width=tile_width, drop_last_tile=False)"
   ]
  },
  {
   "cell_type": "code",
   "execution_count": 25,
   "metadata": {},
   "outputs": [],
   "source": [
    "mean_diploids = np.nanmean(diploids, axis=0)\n",
    "d = TiledTemporalFreqs(tiles, freqs=freqs.T, depths=depths.T, diploids=mean_diploids, gintervals=gi, samples=samples, share_first=True)"
   ]
  },
  {
   "cell_type": "code",
   "execution_count": 34,
   "metadata": {},
   "outputs": [],
   "source": [
    "gw_covs = d.calc_cov(use_masked=True, standardize=True)"
   ]
  },
  {
   "cell_type": "code",
   "execution_count": 35,
   "metadata": {},
   "outputs": [
    {
     "data": {
      "text/plain": [
       "array([[ 0.08046055, -0.00428795, -0.00424907, -0.00567659, -0.00710852,\n",
       "        -0.00664263],\n",
       "       [-0.00428795,  0.13903165,  0.0018406 , -0.00553277, -0.00787776,\n",
       "        -0.00452418],\n",
       "       [-0.00424907,  0.0018406 ,  0.06127999,  0.00127042, -0.00201257,\n",
       "         0.00482624],\n",
       "       [-0.00567659, -0.00553277,  0.00127042,  0.05677893, -0.00140295,\n",
       "         0.00208575],\n",
       "       [-0.00710852, -0.00787776, -0.00201257, -0.00140295,  0.10944601,\n",
       "         0.0063643 ],\n",
       "       [-0.00664263, -0.00452418,  0.00482624,  0.00208575,  0.0063643 ,\n",
       "         0.09569649]])"
      ]
     },
     "execution_count": 35,
     "metadata": {},
     "output_type": "execute_result"
    }
   ],
   "source": [
    "gw_covs"
   ]
  },
  {
   "cell_type": "code",
   "execution_count": 21,
   "metadata": {},
   "outputs": [
    {
     "data": {
      "image/png": "[encoded data removed]",
      "text/plain": [
       "<Figure size 1600x800 with 1 Axes>"
      ]
     },
     "metadata": {
      "needs_background": "light"
     },
     "output_type": "display_data"
    }
   ],
   "source": [
    "np.fill_diagonal(gw_covs, np.nan)\n",
    "fig, ax = plt.subplots()\n",
    "ax.imshow(gw_covs)\n",
    "sample_names = ['', 'D1', 'D2', 'R1', 'R2', 'U1', 'U2']\n",
    "ax.set_xticklabels(sample_names)\n",
    "ax.set_yticklabels(sample_names)\n",
    "plt.show()"
   ]
  },
  {
   "cell_type": "code",
   "execution_count": 42,
   "metadata": {},
   "outputs": [
    {
     "name": "stderr",
     "output_type": "stream",
     "text": [
      "/home/vinceb/projects/cvtk/cvtk/cov.py:276: RuntimeWarning: Mean of empty slice\n",
      "  mean_hets = np.nanmean(hets, axis=freqs.ndim-1)\n",
      "/home/vinceb/projects/cvtk/cvtk/cov.py:331: RuntimeWarning: Mean of empty slice\n",
      "  ave_bias += np.nanmean(0.5 * hets * (diploid_correction + depth_correction), axis=2)\n"
     ]
    },
    {
     "data": {
      "application/vnd.jupyter.widget-view+json": {
       "model_id": "995420065dfa482f90d14ccf601e1cf0",
       "version_major": 2,
       "version_minor": 0
      },
      "text/plain": [
       "HBox(children=(IntProgress(value=0, description='bootstraps', max=1000, style=ProgressStyle(description_width=…"
      ]
     },
     "metadata": {},
     "output_type": "display_data"
    },
    {
     "name": "stdout",
     "output_type": "stream",
     "text": [
      "\n"
     ]
    }
   ],
   "source": [
    "gw_covs_cis = d.bootstrap_cov(B=1000, progress_bar=True, average_replicates=False, use_masked=True, bias_correction=True)"
   ]
  },
  {
   "cell_type": "code",
   "execution_count": 43,
   "metadata": {},
   "outputs": [
    {
     "data": {
      "text/plain": [
       "array([[[ 0.07600861, -0.00518034, -0.00507079, -0.00640337,\n",
       "         -0.00793904, -0.00744386],\n",
       "        [-0.00518034,  0.1316293 ,  0.00083447, -0.00634236,\n",
       "         -0.00875492, -0.00539398],\n",
       "        [-0.00507079,  0.00083447,  0.05730089,  0.00042538,\n",
       "         -0.00294273,  0.0037582 ],\n",
       "        [-0.00640337, -0.00634236,  0.00042538,  0.05302398,\n",
       "         -0.00230317,  0.00111367],\n",
       "        [-0.00793904, -0.00875492, -0.00294273, -0.00230317,\n",
       "          0.10407835,  0.00518738],\n",
       "        [-0.00744386, -0.00539398,  0.0037582 ,  0.00111367,\n",
       "          0.00518738,  0.09074874]],\n",
       "\n",
       "       [[ 0.07680803, -0.00469282, -0.00466272, -0.00600636,\n",
       "         -0.00745321, -0.0070004 ],\n",
       "        [-0.00469282,  0.1337    ,  0.00127621, -0.00589957,\n",
       "         -0.00823877, -0.00490201],\n",
       "        [-0.00466272,  0.00127621,  0.05796255,  0.00076514,\n",
       "         -0.00247477,  0.00420838],\n",
       "        [-0.00600636, -0.00589957,  0.00076514,  0.05369104,\n",
       "         -0.00186527,  0.00154186],\n",
       "        [-0.00745321, -0.00823877, -0.00247477, -0.00186527,\n",
       "          0.10504738,  0.00569189],\n",
       "        [-0.0070004 , -0.00490201,  0.00420838,  0.00154186,\n",
       "          0.00569189,  0.09166506]],\n",
       "\n",
       "       [[ 0.07763391, -0.0042019 , -0.00424463, -0.0056124 ,\n",
       "         -0.00695006, -0.00655299],\n",
       "        [-0.0042019 ,  0.1355886 ,  0.00172338, -0.0054524 ,\n",
       "         -0.00772694, -0.00439871],\n",
       "        [-0.00424463,  0.00172338,  0.05861687,  0.001112  ,\n",
       "         -0.00202584,  0.00467236],\n",
       "        [-0.0056124 , -0.0054524 ,  0.001112  ,  0.05431361,\n",
       "         -0.00143467,  0.00198616],\n",
       "        [-0.00695006, -0.00772694, -0.00202584, -0.00143467,\n",
       "          0.10609577,  0.00622376],\n",
       "        [-0.00655299, -0.00439871,  0.00467236,  0.00198616,\n",
       "          0.00622376,  0.0926547 ]]])"
      ]
     },
     "execution_count": 43,
     "metadata": {},
     "output_type": "execute_result"
    }
   ],
   "source": [
    "gw_covs_cis"
   ]
  },
  {
   "cell_type": "code",
   "execution_count": 79,
   "metadata": {},
   "outputs": [
    {
     "data": {
      "image/png": "[encoded data removed]",
      "text/plain": [
       "<Figure size 1600x800 with 1 Axes>"
      ]
     },
     "metadata": {
      "needs_background": "light"
     },
     "output_type": "display_data"
    }
   ],
   "source": [
    "def rep_cov_plot(cis, labels=''):\n",
    "    rows, cols = np.triu_indices(cis.shape[1], k=1)\n",
    "    lower, mean, upper = [cis[i, rows, cols].ravel() for i in np.arange(3)]\n",
    "    all_labels = [labels[i] + \" \" + labels[j] for i, j in zip(rows, cols)]\n",
    "    lower, upper = lower-mean, mean-upper\n",
    "    bounds = np.stack([lower, upper])\n",
    "    plt.errorbar(all_labels, mean, yerr=bounds, capsize=0, fmt='o', linewidth=2, elinewidth=2)\n",
    "    plt.axhline(y=0, c='0.6', linewidth=0.5, zorder=-1, linestyle='--')\n",
    "    plt.xticks(rotation='vertical')\n",
    "\n",
    "rep_cov_plot(gw_covs_cis, sample_names[1:])\n",
    "\n",
    "    "
   ]
  },
  {
   "cell_type": "code",
   "execution_count": 36,
   "metadata": {},
   "outputs": [
    {
     "data": {
      "text/plain": [
       "array([[ 0.08046055, -0.00428795, -0.00424907, -0.00567659, -0.00710852,\n",
       "        -0.00664263],\n",
       "       [-0.00428795,  0.13903165,  0.0018406 , -0.00553277, -0.00787776,\n",
       "        -0.00452418],\n",
       "       [-0.00424907,  0.0018406 ,  0.06127999,  0.00127042, -0.00201257,\n",
       "         0.00482624],\n",
       "       [-0.00567659, -0.00553277,  0.00127042,  0.05677893, -0.00140295,\n",
       "         0.00208575],\n",
       "       [-0.00710852, -0.00787776, -0.00201257, -0.00140295,  0.10944601,\n",
       "         0.0063643 ],\n",
       "       [-0.00664263, -0.00452418,  0.00482624,  0.00208575,  0.0063643 ,\n",
       "         0.09569649]])"
      ]
     },
     "execution_count": 36,
     "metadata": {},
     "output_type": "execute_result"
    }
   ],
   "source": [
    "d.calc_cov(use_masked=True, bias_correction=True)"
   ]
  },
  {
   "cell_type": "code",
   "execution_count": 31,
   "metadata": {},
   "outputs": [
    {
     "name": "stderr",
     "output_type": "stream",
     "text": [
      "/home/vinceb/projects/cvtk/cvtk/cvtk.py:205: RuntimeWarning: Mean of empty slice.\n",
      "  n = n.mean()\n",
      "/home/vinceb/miniconda3/envs/basesci/lib/python3.6/site-packages/numpy/core/_methods.py:85: RuntimeWarning: invalid value encountered in double_scalars\n",
      "  ret = ret.dtype.type(ret / rcount)\n"
     ]
    },
    {
     "ename": "IndexError",
     "evalue": "index 198 is out of bounds for axis 0 with size 6",
     "output_type": "error",
     "traceback": [
      "\u001b[0;31m---------------------------------------------------------------------------\u001b[0m",
      "\u001b[0;31mIndexError\u001b[0m                                Traceback (most recent call last)",
      "\u001b[0;32m<ipython-input-31-57e932582e37>\u001b[0m in \u001b[0;36m<module>\u001b[0;34m\u001b[0m\n\u001b[0;32m----> 1\u001b[0;31m \u001b[0mdiagnostics\u001b[0m \u001b[0;34m=\u001b[0m \u001b[0md\u001b[0m\u001b[0;34m.\u001b[0m\u001b[0mcorrection_diagnostics\u001b[0m\u001b[0;34m(\u001b[0m\u001b[0;34m)\u001b[0m\u001b[0;34m\u001b[0m\u001b[0;34m\u001b[0m\u001b[0m\n\u001b[0m\u001b[1;32m      2\u001b[0m \u001b[0m_\u001b[0m \u001b[0;34m=\u001b[0m \u001b[0mcorrection_diagnostic_plot\u001b[0m\u001b[0;34m(\u001b[0m\u001b[0mdiagnostics\u001b[0m\u001b[0;34m)\u001b[0m\u001b[0;34m\u001b[0m\u001b[0;34m\u001b[0m\u001b[0m\n",
      "\u001b[0;32m~/projects/cvtk/cvtk/cvtk.py\u001b[0m in \u001b[0;36mcorrection_diagnostics\u001b[0;34m(self, exclude_seqids, offdiag_k)\u001b[0m\n\u001b[1;32m    242\u001b[0m         \u001b[0;31m# data needed for diagnostics, but not affected by the bias correction\u001b[0m\u001b[0;34m\u001b[0m\u001b[0;34m\u001b[0m\u001b[0;34m\u001b[0m\u001b[0m\n\u001b[1;32m    243\u001b[0m         \u001b[0mtile_depths\u001b[0m \u001b[0;34m=\u001b[0m \u001b[0mself\u001b[0m\u001b[0;34m.\u001b[0m\u001b[0mdepth_by_tile\u001b[0m\u001b[0;34m(\u001b[0m\u001b[0;34m)\u001b[0m\u001b[0;34m\u001b[0m\u001b[0;34m\u001b[0m\u001b[0m\n\u001b[0;32m--> 244\u001b[0;31m         \u001b[0mmean_hets\u001b[0m \u001b[0;34m=\u001b[0m \u001b[0mself\u001b[0m\u001b[0;34m.\u001b[0m\u001b[0mcalc_het_by_tile\u001b[0m\u001b[0;34m(\u001b[0m\u001b[0;34m)\u001b[0m\u001b[0;34m\u001b[0m\u001b[0;34m\u001b[0m\u001b[0m\n\u001b[0m\u001b[1;32m    245\u001b[0m         \u001b[0mseqids\u001b[0m \u001b[0;34m=\u001b[0m \u001b[0mself\u001b[0m\u001b[0;34m.\u001b[0m\u001b[0mtile_df\u001b[0m\u001b[0;34m[\u001b[0m\u001b[0;34m'seqid'\u001b[0m\u001b[0;34m]\u001b[0m\u001b[0;34m.\u001b[0m\u001b[0mvalues\u001b[0m\u001b[0;34m\u001b[0m\u001b[0;34m\u001b[0m\u001b[0m\n\u001b[1;32m    246\u001b[0m         \u001b[0;32mfor\u001b[0m \u001b[0muse_correction\u001b[0m \u001b[0;32min\u001b[0m \u001b[0;34m[\u001b[0m\u001b[0;32mTrue\u001b[0m\u001b[0;34m,\u001b[0m \u001b[0;32mFalse\u001b[0m\u001b[0;34m]\u001b[0m\u001b[0;34m:\u001b[0m\u001b[0;34m\u001b[0m\u001b[0;34m\u001b[0m\u001b[0m\n",
      "\u001b[0;32m~/projects/cvtk/cvtk/cvtk.py\u001b[0m in \u001b[0;36mcalc_het_by_tile\u001b[0;34m(self, average, bias)\u001b[0m\n\u001b[1;32m    214\u001b[0m         \u001b[0mhets\u001b[0m \u001b[0;34m=\u001b[0m \u001b[0mcalc_hets\u001b[0m\u001b[0;34m(\u001b[0m\u001b[0mself\u001b[0m\u001b[0;34m.\u001b[0m\u001b[0mfreqs\u001b[0m\u001b[0;34m,\u001b[0m \u001b[0mself\u001b[0m\u001b[0;34m.\u001b[0m\u001b[0mdepths\u001b[0m\u001b[0;34m,\u001b[0m \u001b[0mself\u001b[0m\u001b[0;34m.\u001b[0m\u001b[0mdiploids\u001b[0m\u001b[0;34m,\u001b[0m \u001b[0mbias\u001b[0m\u001b[0;34m=\u001b[0m\u001b[0mbias\u001b[0m\u001b[0;34m)\u001b[0m\u001b[0;34m\u001b[0m\u001b[0;34m\u001b[0m\u001b[0m\n\u001b[1;32m    215\u001b[0m         \u001b[0;32mfor\u001b[0m \u001b[0mindices\u001b[0m \u001b[0;32min\u001b[0m \u001b[0mself\u001b[0m\u001b[0;34m.\u001b[0m\u001b[0mtile_indices\u001b[0m\u001b[0;34m:\u001b[0m\u001b[0;34m\u001b[0m\u001b[0;34m\u001b[0m\u001b[0m\n\u001b[0;32m--> 216\u001b[0;31m             \u001b[0mhet\u001b[0m \u001b[0;34m=\u001b[0m \u001b[0mview_along_axis\u001b[0m\u001b[0;34m(\u001b[0m\u001b[0mhets\u001b[0m\u001b[0;34m,\u001b[0m \u001b[0mindices\u001b[0m\u001b[0;34m,\u001b[0m \u001b[0;36m0\u001b[0m\u001b[0;34m)\u001b[0m\u001b[0;34m\u001b[0m\u001b[0;34m\u001b[0m\u001b[0m\n\u001b[0m\u001b[1;32m    217\u001b[0m             \u001b[0;32mif\u001b[0m \u001b[0maverage\u001b[0m\u001b[0;34m:\u001b[0m\u001b[0;34m\u001b[0m\u001b[0;34m\u001b[0m\u001b[0m\n\u001b[1;32m    218\u001b[0m                 \u001b[0mhet\u001b[0m \u001b[0;34m=\u001b[0m \u001b[0mhet\u001b[0m\u001b[0;34m.\u001b[0m\u001b[0mmean\u001b[0m\u001b[0;34m(\u001b[0m\u001b[0;34m)\u001b[0m\u001b[0;34m\u001b[0m\u001b[0;34m\u001b[0m\u001b[0m\n",
      "\u001b[0;32m~/projects/cvtk/cvtk/utils.py\u001b[0m in \u001b[0;36mview_along_axis\u001b[0;34m(arr, indices, axis)\u001b[0m\n\u001b[1;32m    159\u001b[0m     \u001b[0mslices\u001b[0m \u001b[0;34m=\u001b[0m \u001b[0;34m[\u001b[0m\u001b[0mslice\u001b[0m\u001b[0;34m(\u001b[0m\u001b[0;32mNone\u001b[0m\u001b[0;34m)\u001b[0m\u001b[0;34m]\u001b[0m \u001b[0;34m*\u001b[0m \u001b[0marr\u001b[0m\u001b[0;34m.\u001b[0m\u001b[0mndim\u001b[0m\u001b[0;34m\u001b[0m\u001b[0;34m\u001b[0m\u001b[0m\n\u001b[1;32m    160\u001b[0m     \u001b[0mslices\u001b[0m\u001b[0;34m[\u001b[0m\u001b[0maxis\u001b[0m\u001b[0;34m]\u001b[0m \u001b[0;34m=\u001b[0m \u001b[0msliceify\u001b[0m\u001b[0;34m(\u001b[0m\u001b[0mindices\u001b[0m\u001b[0;34m)\u001b[0m\u001b[0;34m\u001b[0m\u001b[0;34m\u001b[0m\u001b[0m\n\u001b[0;32m--> 161\u001b[0;31m     \u001b[0;32mreturn\u001b[0m \u001b[0marr\u001b[0m\u001b[0;34m[\u001b[0m\u001b[0mtuple\u001b[0m\u001b[0;34m(\u001b[0m\u001b[0mslices\u001b[0m\u001b[0;34m)\u001b[0m\u001b[0;34m]\u001b[0m\u001b[0;34m\u001b[0m\u001b[0;34m\u001b[0m\u001b[0m\n\u001b[0m\u001b[1;32m    162\u001b[0m \u001b[0;34m\u001b[0m\u001b[0m\n\u001b[1;32m    163\u001b[0m \u001b[0;34m\u001b[0m\u001b[0m\n",
      "\u001b[0;31mIndexError\u001b[0m: index 198 is out of bounds for axis 0 with size 6"
     ]
    }
   ],
   "source": [
    "diagnostics = d.correction_diagnostics()\n",
    "_ = correction_diagnostic_plot(diagnostics)"
   ]
  },
  {
   "cell_type": "code",
   "execution_count": null,
   "metadata": {},
   "outputs": [],
   "source": []
  },
  {
   "cell_type": "code",
   "execution_count": null,
   "metadata": {},
   "outputs": [],
   "source": []
  }
 ],
 "metadata": {
  "kernelspec": {
   "display_name": "Python 3",
   "language": "python",
   "name": "python3"
  },
  "language_info": {
   "codemirror_mode": {
    "name": "ipython",
    "version": 3
   },
   "file_extension": ".py",
   "mimetype": "text/x-python",
   "name": "python",
   "nbconvert_exporter": "python",
   "pygments_lexer": "ipython3",
   "version": "3.6.7"
  }
 },
 "nbformat": 4,
 "nbformat_minor": 2
}
